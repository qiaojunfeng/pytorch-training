{
 "cells": [
  {
   "cell_type": "markdown",
   "id": "639b4dfe-f0c0-409b-90a5-02b782be1d13",
   "metadata": {},
   "source": [
    "# Benchmarking a basic training of a CNN"
   ]
  },
  {
   "cell_type": "code",
   "execution_count": 1,
   "id": "b2363679-29a4-402d-bc2c-9cd31fe0944f",
   "metadata": {},
   "outputs": [
    {
     "name": "stderr",
     "output_type": "stream",
     "text": [
      "/apps/daint/UES/6.0.UP04/sandboxes/sarafael/hpcpython2022/lib/python3.9/site-packages/tqdm/auto.py:22: TqdmWarning: IProgress not found. Please update jupyter and ipywidgets. See https://ipywidgets.readthedocs.io/en/stable/user_install.html\n",
      "  from .autonotebook import tqdm as notebook_tqdm\n"
     ]
    }
   ],
   "source": [
    "import time\n",
    "import random\n",
    "import numpy as np\n",
    "import torch\n",
    "import torch.nn.functional as F\n",
    "import torch.optim as optim\n",
    "from torch.utils.data import DataLoader, Dataset\n",
    "from torchvision import models"
   ]
  },
  {
   "cell_type": "code",
   "execution_count": 2,
   "id": "3510ac1a-ede0-4718-9c03-bd8a6701a6ab",
   "metadata": {},
   "outputs": [],
   "source": [
    "batch_size = 128\n",
    "num_iters = 10\n",
    "device = 0\n",
    "\n",
    "\n",
    "class SyntheticDataset(Dataset):\n",
    "    def __getitem__(self, idx):\n",
    "        data = torch.randn(3, 224, 224)\n",
    "        target = random.randint(0, 999)\n",
    "        return (data, target)\n",
    "\n",
    "    def __len__(self):\n",
    "        return batch_size * num_iters\n",
    "    \n",
    "\n",
    "train_set = SyntheticDataset()\n",
    "\n",
    "train_loader = DataLoader(\n",
    "    train_set,\n",
    "    batch_size=batch_size,\n",
    "    shuffle=False,\n",
    "    num_workers=12\n",
    ")"
   ]
  },
  {
   "cell_type": "code",
   "execution_count": 3,
   "id": "0fd1a310-7d59-44ea-be87-926f318c983e",
   "metadata": {},
   "outputs": [],
   "source": [
    "model = models.resnet50()\n",
    "model.to(device);"
   ]
  },
  {
   "cell_type": "code",
   "execution_count": 4,
   "id": "d8706059-a638-4416-98dd-be9f91f0003e",
   "metadata": {},
   "outputs": [],
   "source": [
    "optimizer = optim.SGD(model.parameters(), lr=0.01)"
   ]
  },
  {
   "cell_type": "code",
   "execution_count": 5,
   "id": "da55873c-a2ac-4e31-b0ec-f7ef4d8ad4b3",
   "metadata": {},
   "outputs": [],
   "source": [
    "def benchmark_step(model, imgs, labels):\n",
    "    optimizer.zero_grad()\n",
    "    output = model(imgs)\n",
    "    loss = F.cross_entropy(output, labels)\n",
    "    loss.backward()\n",
    "    optimizer.step()"
   ]
  },
  {
   "cell_type": "code",
   "execution_count": 6,
   "id": "ca51853a-dffa-437d-9656-d739429820a6",
   "metadata": {},
   "outputs": [
    {
     "name": "stdout",
     "output_type": "stream",
     "text": [
      " * Epoch  0: 167.32 images/sec per GPU\n",
      " * Epoch  1: 220.69 images/sec per GPU\n",
      " * Epoch  2: 220.48 images/sec per GPU\n",
      " * Epoch  3: 220.67 images/sec per GPU\n",
      " * Epoch  4: 220.88 images/sec per GPU\n"
     ]
    }
   ],
   "source": [
    "num_epochs = 5\n",
    "imgs_sec = []\n",
    "for epoch in range(num_epochs):\n",
    "    t0 = time.time()\n",
    "    for step, (imgs, labels) in enumerate(train_loader):\n",
    "        imgs = imgs.to(device)\n",
    "        labels = labels.to(device)\n",
    "        benchmark_step(model, imgs, labels)\n",
    "\n",
    "    dt = time.time() - t0\n",
    "    imgs_sec.append(batch_size * num_iters / dt)\n",
    "\n",
    "    print(f' * Epoch {epoch:2d}: '\n",
    "          f'{imgs_sec[epoch]:.2f} images/sec per GPU')"
   ]
  },
  {
   "cell_type": "markdown",
   "id": "7f66f998-3cf6-4fc8-8ab1-f806e5a24141",
   "metadata": {},
   "source": [
    "## Now change the above scripts to DistributedDataParallel"
   ]
  },
  {
   "cell_type": "code",
   "execution_count": 1,
   "id": "202da63c-da42-4818-9fe6-fdd128e589ed",
   "metadata": {},
   "outputs": [],
   "source": [
    "import ipcmagic"
   ]
  },
  {
   "cell_type": "code",
   "execution_count": 2,
   "id": "9ba1f002-0494-421d-ac3b-9be457f3eb27",
   "metadata": {},
   "outputs": [
    {
     "name": "stdout",
     "output_type": "stream",
     "text": [
      "100%|██████████| 2/2 [00:24<00:00, 12.21s/engine]\n"
     ]
    }
   ],
   "source": [
    "%ipcluster start -n 2"
   ]
  },
  {
   "cell_type": "code",
   "execution_count": 3,
   "id": "a8233a4d-249a-4739-a60d-846645dc18b2",
   "metadata": {},
   "outputs": [],
   "source": [
    "%pxconfig --progress-after -1"
   ]
  },
  {
   "cell_type": "code",
   "execution_count": 4,
   "id": "3cd46e75-5840-4cf4-9d8f-7084e731afd8",
   "metadata": {},
   "outputs": [
    {
     "data": {
      "text/plain": [
       "[stderr:0] /apps/daint/UES/6.0.UP04/sandboxes/sarafael/hpcpython2022/lib/python3.9/site-packages/tqdm/auto.py:22: TqdmWarning: IProgress not found. Please update jupyter and ipywidgets. See https://ipywidgets.readthedocs.io/en/stable/user_install.html\n",
       "  from .autonotebook import tqdm as notebook_tqdm\n"
      ]
     },
     "metadata": {},
     "output_type": "display_data"
    },
    {
     "data": {
      "text/plain": [
       "[stderr:1] /apps/daint/UES/6.0.UP04/sandboxes/sarafael/hpcpython2022/lib/python3.9/site-packages/tqdm/auto.py:22: TqdmWarning: IProgress not found. Please update jupyter and ipywidgets. See https://ipywidgets.readthedocs.io/en/stable/user_install.html\n",
       "  from .autonotebook import tqdm as notebook_tqdm\n"
      ]
     },
     "metadata": {},
     "output_type": "display_data"
    }
   ],
   "source": [
    "%%px\n",
    "import numpy as np\n",
    "import matplotlib\n",
    "import matplotlib.pyplot as plt\n",
    "import torch\n",
    "import torch.distributed as dist\n",
    "import torch.nn.functional as F\n",
    "from torch.nn.parallel import DistributedDataParallel\n",
    "from torch.utils.data import DataLoader, Dataset, DistributedSampler\n",
    "from pt_distr_env import DistributedEnviron"
   ]
  },
  {
   "cell_type": "code",
   "execution_count": 5,
   "id": "9b1cfb7c-6333-4bda-9d56-be00e8d5ea79",
   "metadata": {},
   "outputs": [
    {
     "data": {
      "text/plain": [
       "[stderr:0] [W socket.cpp:401] [c10d] The server socket cannot be initialized on [::]:39591 (errno: 97 - Address family not supported by protocol).\n",
       "[W socket.cpp:558] [c10d] The client socket cannot be initialized to connect to [nid03172]:39591 (errno: 97 - Address family not supported by protocol).\n",
       "[W socket.cpp:558] [c10d] The client socket cannot be initialized to connect to [nid03172]:39591 (errno: 97 - Address family not supported by protocol).\n"
      ]
     },
     "metadata": {},
     "output_type": "display_data"
    },
    {
     "data": {
      "text/plain": [
       "[stderr:1] [W socket.cpp:558] [c10d] The client socket cannot be initialized to connect to [nid03172]:39591 (errno: 97 - Address family not supported by protocol).\n",
       "[W socket.cpp:558] [c10d] The client socket cannot be initialized to connect to [nid03172]:39591 (errno: 97 - Address family not supported by protocol).\n"
      ]
     },
     "metadata": {},
     "output_type": "display_data"
    }
   ],
   "source": [
    "%%px\n",
    "distr_env = DistributedEnviron()\n",
    "dist.init_process_group(backend=\"nccl\")\n",
    "world_size = dist.get_world_size()\n",
    "rank = dist.get_rank()\n",
    "device = distr_env.local_rank"
   ]
  },
  {
   "cell_type": "code",
   "execution_count": 7,
   "id": "95b710be-299a-4550-9a5e-587a07d650b2",
   "metadata": {},
   "outputs": [
    {
     "data": {
      "text/plain": [
       "[stdout:1] 2560\n"
      ]
     },
     "metadata": {},
     "output_type": "display_data"
    },
    {
     "data": {
      "text/plain": [
       "[stdout:0] 2560\n"
      ]
     },
     "metadata": {},
     "output_type": "display_data"
    }
   ],
   "source": [
    "%%px\n",
    "\n",
    "batch_size_per_gpu = 128\n",
    "num_iters = 10\n",
    "device = 0\n",
    "\n",
    "\n",
    "class SyntheticDataset(Dataset):\n",
    "    def __getitem__(self, idx):\n",
    "        data = torch.randn(3, 224, 224)\n",
    "        target = random.randint(0, 999)\n",
    "        return (data, target)\n",
    "\n",
    "    def __len__(self):\n",
    "        return batch_size_per_gpu * num_iters * world_size\n",
    "    \n",
    "\n",
    "train_set = SyntheticDataset()\n",
    "print(len(train_set))\n",
    "\n",
    "train_sampler = DistributedSampler(\n",
    "    train_set,\n",
    "    num_replicas=world_size,\n",
    "    rank=rank,\n",
    "    shuffle=False,\n",
    "    seed=42\n",
    ")\n",
    "\n",
    "train_loader = DataLoader(\n",
    "    train_set,\n",
    "    batch_size=batch_size_per_gpu,\n",
    "    shuffle=False,\n",
    "    num_workers=12,\n",
    "    sampler=train_sampler\n",
    ")"
   ]
  },
  {
   "cell_type": "code",
   "execution_count": 8,
   "id": "6e160778-8fe6-4958-a50d-a25c9e5456c8",
   "metadata": {},
   "outputs": [],
   "source": [
    "%%px\n",
    "import time\n",
    "import random\n",
    "import numpy as np\n",
    "import torch\n",
    "import torch.nn.functional as F\n",
    "import torch.optim as optim\n",
    "from torch.utils.data import DataLoader, Dataset\n",
    "from torchvision import models"
   ]
  },
  {
   "cell_type": "code",
   "execution_count": 9,
   "id": "4a1f6b25-dd7a-4078-a5cc-b76fa9ed807c",
   "metadata": {},
   "outputs": [
    {
     "data": {
      "text/plain": [
       "[stderr:0] libibverbs: Could not locate libibgni (/usr/lib64/libibgni.so.1: undefined symbol: verbs_uninit_context)\n",
       "libibverbs: Warning: couldn't open config directory '/opt/cray/rdma-core/27.1-7.0.3.1_4.6__g4beae6eb.ari/etc/libibverbs.d'.\n"
      ]
     },
     "metadata": {},
     "output_type": "display_data"
    },
    {
     "data": {
      "text/plain": [
       "[stderr:1] libibverbs: Could not locate libibgni (/usr/lib64/libibgni.so.1: undefined symbol: verbs_uninit_context)\n",
       "libibverbs: Warning: couldn't open config directory '/opt/cray/rdma-core/27.1-7.0.3.1_4.6__g4beae6eb.ari/etc/libibverbs.d'.\n"
      ]
     },
     "metadata": {},
     "output_type": "display_data"
    }
   ],
   "source": [
    "%%px\n",
    "\n",
    "_model = models.resnet50()\n",
    "_model.to(device)\n",
    "ddp_model = DistributedDataParallel(_model, device_ids=[device])"
   ]
  },
  {
   "cell_type": "code",
   "execution_count": 10,
   "id": "66497ea7-3a3d-4350-9a76-46911f74ebec",
   "metadata": {},
   "outputs": [],
   "source": [
    "%%px\n",
    "optimizer = optim.SGD(ddp_model.parameters(), lr=0.01)"
   ]
  },
  {
   "cell_type": "code",
   "execution_count": 11,
   "id": "8034b142-d674-4f52-8fb1-c77a2ced9ee4",
   "metadata": {},
   "outputs": [],
   "source": [
    "%%px\n",
    "def benchmark_step(model, imgs, labels):\n",
    "    optimizer.zero_grad()\n",
    "    output = model(imgs)\n",
    "    loss = F.cross_entropy(output, labels)\n",
    "    loss.backward()\n",
    "    optimizer.step()"
   ]
  },
  {
   "cell_type": "code",
   "execution_count": 12,
   "id": "e23a5a11-20e9-43a8-a854-37059efad3f8",
   "metadata": {},
   "outputs": [
    {
     "data": {
      "text/plain": [
       "[stdout:0]  * Epoch  0: 160.79 images/sec per GPU\n",
       " * Epoch  1: 212.97 images/sec per GPU\n",
       " * Epoch  2: 212.14 images/sec per GPU\n",
       " * Epoch  3: 212.06 images/sec per GPU\n",
       " * Epoch  4: 212.28 images/sec per GPU\n"
      ]
     },
     "metadata": {},
     "output_type": "display_data"
    },
    {
     "data": {
      "text/plain": [
       "[stdout:1]  * Epoch  0: 160.74 images/sec per GPU\n",
       " * Epoch  1: 213.02 images/sec per GPU\n",
       " * Epoch  2: 212.23 images/sec per GPU\n",
       " * Epoch  3: 211.92 images/sec per GPU\n",
       " * Epoch  4: 212.26 images/sec per GPU\n"
      ]
     },
     "metadata": {},
     "output_type": "display_data"
    }
   ],
   "source": [
    "%%px\n",
    "\n",
    "num_epochs = 5\n",
    "imgs_sec = []\n",
    "for epoch in range(num_epochs):\n",
    "    t0 = time.time()\n",
    "    for step, (imgs, labels) in enumerate(train_loader):\n",
    "        imgs = imgs.to(device)\n",
    "        labels = labels.to(device)\n",
    "        benchmark_step(ddp_model, imgs, labels)\n",
    "\n",
    "    dt = time.time() - t0\n",
    "    imgs_sec.append(batch_size_per_gpu * num_iters / dt)\n",
    "\n",
    "    print(f' * Epoch {epoch:2d}: '\n",
    "          f'{imgs_sec[epoch]:.2f} images/sec per GPU')"
   ]
  },
  {
   "cell_type": "code",
   "execution_count": 13,
   "id": "4b9d35c0-3641-4482-ae87-172be707f698",
   "metadata": {},
   "outputs": [
    {
     "name": "stdout",
     "output_type": "stream",
     "text": [
      "IPCluster stopped.\n"
     ]
    }
   ],
   "source": [
    "%ipcluster stop"
   ]
  },
  {
   "cell_type": "code",
   "execution_count": null,
   "id": "8c4fd4e1-9c0b-41f6-b3e9-40937211c011",
   "metadata": {},
   "outputs": [],
   "source": []
  }
 ],
 "metadata": {
  "kernelspec": {
   "display_name": "pytorch2022",
   "language": "python",
   "name": "pytorch2022"
  },
  "language_info": {
   "codemirror_mode": {
    "name": "ipython",
    "version": 3
   },
   "file_extension": ".py",
   "mimetype": "text/x-python",
   "name": "python",
   "nbconvert_exporter": "python",
   "pygments_lexer": "ipython3",
   "version": "3.9.4"
  }
 },
 "nbformat": 4,
 "nbformat_minor": 5
}
