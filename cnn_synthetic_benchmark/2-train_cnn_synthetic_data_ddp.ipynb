{
 "cells": [
  {
   "cell_type": "code",
   "execution_count": 1,
   "id": "bd54a174-888a-49b3-995a-9c7adf97872a",
   "metadata": {},
   "outputs": [],
   "source": [
    "import ipcmagic"
   ]
  },
  {
   "cell_type": "code",
   "execution_count": 2,
   "id": "f7d8e78c-1608-4118-96ca-0f3e62469e7c",
   "metadata": {},
   "outputs": [
    {
     "name": "stdout",
     "output_type": "stream",
     "text": [
      "100%|██████████| 2/2 [00:07<00:00,  3.78s/engine]\n"
     ]
    }
   ],
   "source": [
    "%ipcluster start -n 2"
   ]
  },
  {
   "cell_type": "code",
   "execution_count": 3,
   "id": "20e943cb-4442-4ebd-839a-e99968167109",
   "metadata": {},
   "outputs": [],
   "source": [
    "%pxconfig --progress-after -1"
   ]
  },
  {
   "cell_type": "code",
   "execution_count": 4,
   "id": "b2363679-29a4-402d-bc2c-9cd31fe0944f",
   "metadata": {},
   "outputs": [
    {
     "data": {
      "text/plain": [
       "[stderr:0] /apps/daint/UES/6.0.UP04/sandboxes/sarafael/hpcpython2022/lib/python3.9/site-packages/tqdm/auto.py:22: TqdmWarning: IProgress not found. Please update jupyter and ipywidgets. See https://ipywidgets.readthedocs.io/en/stable/user_install.html\n",
       "  from .autonotebook import tqdm as notebook_tqdm\n"
      ]
     },
     "metadata": {},
     "output_type": "display_data"
    },
    {
     "data": {
      "text/plain": [
       "[stderr:1] /apps/daint/UES/6.0.UP04/sandboxes/sarafael/hpcpython2022/lib/python3.9/site-packages/tqdm/auto.py:22: TqdmWarning: IProgress not found. Please update jupyter and ipywidgets. See https://ipywidgets.readthedocs.io/en/stable/user_install.html\n",
       "  from .autonotebook import tqdm as notebook_tqdm\n"
      ]
     },
     "metadata": {},
     "output_type": "display_data"
    }
   ],
   "source": [
    "%%px\n",
    "import time\n",
    "import random\n",
    "import numpy as np\n",
    "import torch\n",
    "import torch.nn.functional as F\n",
    "import torch.optim as optim\n",
    "import torch.distributed as dist\n",
    "from torch.nn.parallel import DistributedDataParallel\n",
    "from torch.utils.data import DataLoader, Dataset, DistributedSampler\n",
    "from torchvision import models\n",
    "from pt_distr_env import DistributedEnviron"
   ]
  },
  {
   "cell_type": "code",
   "execution_count": 5,
   "id": "725b6266-cbf2-469f-ba5c-68fe664353a6",
   "metadata": {},
   "outputs": [
    {
     "data": {
      "text/plain": [
       "[stderr:0] [W socket.cpp:401] [c10d] The server socket cannot be initialized on [::]:39591 (errno: 97 - Address family not supported by protocol).\n",
       "[W socket.cpp:558] [c10d] The client socket cannot be initialized to connect to [nid03172]:39591 (errno: 97 - Address family not supported by protocol).\n",
       "[W socket.cpp:558] [c10d] The client socket cannot be initialized to connect to [nid03172]:39591 (errno: 97 - Address family not supported by protocol).\n"
      ]
     },
     "metadata": {},
     "output_type": "display_data"
    },
    {
     "data": {
      "text/plain": [
       "[stderr:1] [W socket.cpp:558] [c10d] The client socket cannot be initialized to connect to [nid03172]:39591 (errno: 97 - Address family not supported by protocol).\n",
       "[W socket.cpp:558] [c10d] The client socket cannot be initialized to connect to [nid03172]:39591 (errno: 97 - Address family not supported by protocol).\n"
      ]
     },
     "metadata": {},
     "output_type": "display_data"
    }
   ],
   "source": [
    "%%px\n",
    "distr_env = DistributedEnviron()\n",
    "dist.init_process_group(backend=\"nccl\")\n",
    "world_size = dist.get_world_size()\n",
    "rank = dist.get_rank()\n",
    "device = distr_env.local_rank"
   ]
  },
  {
   "cell_type": "code",
   "execution_count": 6,
   "id": "3510ac1a-ede0-4718-9c03-bd8a6701a6ab",
   "metadata": {},
   "outputs": [],
   "source": [
    "%%px\n",
    "batch_size_per_gpu = 128\n",
    "num_iters = 10\n",
    "\n",
    "class SyntheticDataset(Dataset):\n",
    "    def __getitem__(self, idx):\n",
    "        data = torch.randn(3, 224, 224)\n",
    "        target = random.randint(0, 999)\n",
    "        return (data, target)\n",
    "\n",
    "    def __len__(self):\n",
    "        return batch_size_per_gpu * num_iters * world_size\n",
    "    \n",
    "\n",
    "train_set = SyntheticDataset()\n",
    "\n",
    "train_sampler = DistributedSampler(\n",
    "    train_set,\n",
    "    num_replicas=world_size,\n",
    "    rank=rank,\n",
    "    shuffle=False,\n",
    "    seed=42\n",
    ")\n",
    "\n",
    "train_loader = DataLoader(\n",
    "    train_set,\n",
    "    batch_size=batch_size_per_gpu,\n",
    "    shuffle=False,\n",
    "    sampler=train_sampler,\n",
    "    num_workers=12\n",
    ")"
   ]
  },
  {
   "cell_type": "code",
   "execution_count": 7,
   "id": "0fd1a310-7d59-44ea-be87-926f318c983e",
   "metadata": {},
   "outputs": [
    {
     "data": {
      "text/plain": [
       "[stderr:0] libibverbs: Could not locate libibgni (/usr/lib64/libibgni.so.1: undefined symbol: verbs_uninit_context)\n",
       "libibverbs: Warning: couldn't open config directory '/opt/cray/rdma-core/27.1-7.0.3.1_4.6__g4beae6eb.ari/etc/libibverbs.d'.\n"
      ]
     },
     "metadata": {},
     "output_type": "display_data"
    },
    {
     "data": {
      "text/plain": [
       "[stderr:1] libibverbs: Could not locate libibgni (/usr/lib64/libibgni.so.1: undefined symbol: verbs_uninit_context)\n",
       "libibverbs: Warning: couldn't open config directory '/opt/cray/rdma-core/27.1-7.0.3.1_4.6__g4beae6eb.ari/etc/libibverbs.d'.\n"
      ]
     },
     "metadata": {},
     "output_type": "display_data"
    }
   ],
   "source": [
    "%%px\n",
    "_model = models.resnet50()\n",
    "_model.to(device);\n",
    "\n",
    "ddp_model = DistributedDataParallel(_model, device_ids=[device])"
   ]
  },
  {
   "cell_type": "code",
   "execution_count": 8,
   "id": "d8706059-a638-4416-98dd-be9f91f0003e",
   "metadata": {},
   "outputs": [],
   "source": [
    "%%px\n",
    "optimizer = optim.SGD(ddp_model.parameters(), lr=0.01)"
   ]
  },
  {
   "cell_type": "code",
   "execution_count": 9,
   "id": "da55873c-a2ac-4e31-b0ec-f7ef4d8ad4b3",
   "metadata": {},
   "outputs": [],
   "source": [
    "%%px\n",
    "def benchmark_step(model, imgs, labels):\n",
    "    optimizer.zero_grad()\n",
    "    output = model(imgs)\n",
    "    loss = F.cross_entropy(output, labels)\n",
    "    loss.backward()\n",
    "    optimizer.step()"
   ]
  },
  {
   "cell_type": "code",
   "execution_count": 10,
   "id": "ca51853a-dffa-437d-9656-d739429820a6",
   "metadata": {},
   "outputs": [
    {
     "data": {
      "text/plain": [
       "[stdout:0]  * Epoch  0: 154.06 images/sec per GPU\n",
       " * Epoch  1: 213.66 images/sec per GPU\n",
       " * Epoch  2: 213.05 images/sec per GPU\n",
       " * Epoch  3: 212.81 images/sec per GPU\n",
       " * Epoch  4: 212.51 images/sec per GPU\n"
      ]
     },
     "metadata": {},
     "output_type": "display_data"
    },
    {
     "data": {
      "text/plain": [
       "[stdout:1]  * Epoch  0: 154.03 images/sec per GPU\n",
       " * Epoch  1: 213.40 images/sec per GPU\n",
       " * Epoch  2: 213.30 images/sec per GPU\n",
       " * Epoch  3: 212.58 images/sec per GPU\n",
       " * Epoch  4: 212.56 images/sec per GPU\n"
      ]
     },
     "metadata": {},
     "output_type": "display_data"
    }
   ],
   "source": [
    "%%px\n",
    "num_epochs = 5\n",
    "imgs_sec = []\n",
    "for epoch in range(num_epochs):\n",
    "    t0 = time.time()\n",
    "    for step, (imgs, labels) in enumerate(train_loader):\n",
    "        imgs = imgs.to(device)\n",
    "        labels = labels.to(device)\n",
    "        benchmark_step(ddp_model, imgs, labels)\n",
    "\n",
    "    dt = time.time() - t0\n",
    "    imgs_sec.append(batch_size_per_gpu * num_iters / dt)\n",
    "\n",
    "    print(f' * Epoch {epoch:2d}: '\n",
    "          f'{imgs_sec[epoch]:.2f} images/sec per GPU')"
   ]
  },
  {
   "cell_type": "code",
   "execution_count": 11,
   "id": "32cbf036-f2ec-4656-9a71-d117949fef87",
   "metadata": {},
   "outputs": [
    {
     "name": "stdout",
     "output_type": "stream",
     "text": [
      "IPCluster stopped.\n"
     ]
    }
   ],
   "source": [
    "%ipcluster stop"
   ]
  },
  {
   "cell_type": "code",
   "execution_count": null,
   "id": "1f01c2e0-353b-4641-88b6-25c718ac3018",
   "metadata": {},
   "outputs": [],
   "source": []
  }
 ],
 "metadata": {
  "kernelspec": {
   "display_name": "pytorch2022",
   "language": "python",
   "name": "pytorch2022"
  },
  "language_info": {
   "codemirror_mode": {
    "name": "ipython",
    "version": 3
   },
   "file_extension": ".py",
   "mimetype": "text/x-python",
   "name": "python",
   "nbconvert_exporter": "python",
   "pygments_lexer": "ipython3",
   "version": "3.9.4"
  }
 },
 "nbformat": 4,
 "nbformat_minor": 5
}
