{
 "cells": [
  {
   "cell_type": "markdown",
   "metadata": {},
   "source": [
    "# Fine-tuning a BERT model for text extraction with the SQuAD dataset\n",
    "\n",
    "We are going to fine-tune [BERT implemented by HuggingFace](https://huggingface.co/bert-base-uncased) for the text-extraction task with a dataset of questions and answers with the [SQuAD (The Stanford Question Answering Dataset)](https://rajpurkar.github.io/SQuAD-explorer/) dataset.\n",
    "The data is composed by a set of questions and corresponding paragraphs that contains the answers.\n",
    "The model will be trained to locate the answer in the context by giving the positions where the answer starts and ends.\n",
    "\n",
    "In this notebook we are going to do the training using multiple GPUs.\n",
    "\n",
    "This notebook is based on [BERT (from HuggingFace Transformers) for Text Extraction](https://keras.io/examples/nlp/text_extraction_with_bert/).\n",
    "\n",
    "More info:\n",
    "- [Glossary - HuggingFace docs](https://huggingface.co/transformers/glossary.html#model-inputs)\n",
    "- [BERT NLP — How To Build a Question Answering Bot](https://towardsdatascience.com/bert-nlp-how-to-build-a-question-answering-bot-98b1d1594d7b)"
   ]
  },
  {
   "cell_type": "code",
   "execution_count": 1,
   "metadata": {},
   "outputs": [],
   "source": [
    "import ipcmagic"
   ]
  },
  {
   "cell_type": "code",
   "execution_count": 2,
   "metadata": {},
   "outputs": [
    {
     "name": "stdout",
     "output_type": "stream",
     "text": [
      "100%|██████████| 2/2 [00:06<00:00,  3.20s/engine]\n"
     ]
    }
   ],
   "source": [
    "%ipcluster start -n 2"
   ]
  },
  {
   "cell_type": "code",
   "execution_count": 3,
   "metadata": {},
   "outputs": [],
   "source": [
    "%pxconfig --progress-after -1"
   ]
  },
  {
   "cell_type": "code",
   "execution_count": 4,
   "metadata": {},
   "outputs": [
    {
     "data": {
      "text/plain": [
       "[stderr:0] /apps/daint/UES/6.0.UP04/sandboxes/sarafael/hpcpython2022/lib/python3.9/site-packages/tqdm/auto.py:22: TqdmWarning: IProgress not found. Please update jupyter and ipywidgets. See https://ipywidgets.readthedocs.io/en/stable/user_install.html\n",
       "  from .autonotebook import tqdm as notebook_tqdm\n"
      ]
     },
     "metadata": {},
     "output_type": "display_data"
    },
    {
     "data": {
      "text/plain": [
       "[stderr:1] /apps/daint/UES/6.0.UP04/sandboxes/sarafael/hpcpython2022/lib/python3.9/site-packages/tqdm/auto.py:22: TqdmWarning: IProgress not found. Please update jupyter and ipywidgets. See https://ipywidgets.readthedocs.io/en/stable/user_install.html\n",
       "  from .autonotebook import tqdm as notebook_tqdm\n"
      ]
     },
     "metadata": {},
     "output_type": "display_data"
    }
   ],
   "source": [
    "%%px\n",
    "import os\n",
    "import utility.data_processing as dpp\n",
    "import utility.testing as testing\n",
    "import torch\n",
    "import torch.distributed as dist\n",
    "from datasets import load_dataset, load_metric\n",
    "from datetime import datetime\n",
    "from transformers import BertTokenizer, BertForQuestionAnswering\n",
    "from tokenizers import BertWordPieceTokenizer\n",
    "from torch.utils.data import DataLoader, DistributedSampler\n",
    "from torch.nn.parallel import DistributedDataParallel"
   ]
  },
  {
   "cell_type": "code",
   "execution_count": 5,
   "metadata": {},
   "outputs": [],
   "source": [
    "%%px\n",
    "from datasets.utils import disable_progress_bar\n",
    "from datasets import disable_caching\n",
    "\n",
    "\n",
    "disable_progress_bar()\n",
    "disable_caching()"
   ]
  },
  {
   "cell_type": "code",
   "execution_count": 6,
   "metadata": {},
   "outputs": [],
   "source": [
    "%%px\n",
    "hf_model = 'bert-base-uncased'\n",
    "bert_cache = os.path.join(os.getcwd(), 'cache')"
   ]
  },
  {
   "cell_type": "code",
   "execution_count": 7,
   "metadata": {},
   "outputs": [],
   "source": [
    "%%px\n",
    "slow_tokenizer = BertTokenizer.from_pretrained(\n",
    "    hf_model,\n",
    "    cache_dir=os.path.join(bert_cache, f'_{hf_model}-tokenizer')\n",
    ")\n",
    "save_path = os.path.join(bert_cache, f'{hf_model}-tokenizer')\n",
    "if not os.path.exists(save_path):\n",
    "    os.makedirs(save_path)\n",
    "    slow_tokenizer.save_pretrained(save_path)\n",
    "    \n",
    "# Load the fast tokenizer from saved file\n",
    "tokenizer = BertWordPieceTokenizer(os.path.join(save_path, 'vocab.txt'),\n",
    "                                   lowercase=True)"
   ]
  },
  {
   "cell_type": "code",
   "execution_count": 8,
   "metadata": {},
   "outputs": [
    {
     "data": {
      "text/plain": [
       "[stderr:0] Downloading: 100%|██████████| 570/570 [00:00<00:00, 260kB/s]\n",
       "Downloading: 100%|██████████| 420M/420M [00:11<00:00, 37.1MB/s]\n",
       "Some weights of the model checkpoint at bert-base-uncased were not used when initializing BertForQuestionAnswering: ['cls.predictions.transform.LayerNorm.weight', 'cls.seq_relationship.bias', 'cls.predictions.transform.dense.weight', 'cls.predictions.transform.LayerNorm.bias', 'cls.predictions.decoder.weight', 'cls.seq_relationship.weight', 'cls.predictions.bias', 'cls.predictions.transform.dense.bias']\n",
       "- This IS expected if you are initializing BertForQuestionAnswering from the checkpoint of a model trained on another task or with another architecture (e.g. initializing a BertForSequenceClassification model from a BertForPreTraining model).\n",
       "- This IS NOT expected if you are initializing BertForQuestionAnswering from the checkpoint of a model that you expect to be exactly identical (initializing a BertForSequenceClassification model from a BertForSequenceClassification model).\n",
       "Some weights of BertForQuestionAnswering were not initialized from the model checkpoint at bert-base-uncased and are newly initialized: ['qa_outputs.weight', 'qa_outputs.bias']\n",
       "You should probably TRAIN this model on a down-stream task to be able to use it for predictions and inference.\n"
      ]
     },
     "metadata": {},
     "output_type": "display_data"
    },
    {
     "data": {
      "text/plain": [
       "[stderr:1] Some weights of the model checkpoint at bert-base-uncased were not used when initializing BertForQuestionAnswering: ['cls.seq_relationship.bias', 'cls.predictions.transform.dense.weight', 'cls.predictions.bias', 'cls.predictions.transform.LayerNorm.bias', 'cls.predictions.decoder.weight', 'cls.seq_relationship.weight', 'cls.predictions.transform.dense.bias', 'cls.predictions.transform.LayerNorm.weight']\n",
       "- This IS expected if you are initializing BertForQuestionAnswering from the checkpoint of a model trained on another task or with another architecture (e.g. initializing a BertForSequenceClassification model from a BertForPreTraining model).\n",
       "- This IS NOT expected if you are initializing BertForQuestionAnswering from the checkpoint of a model that you expect to be exactly identical (initializing a BertForSequenceClassification model from a BertForSequenceClassification model).\n",
       "Some weights of BertForQuestionAnswering were not initialized from the model checkpoint at bert-base-uncased and are newly initialized: ['qa_outputs.bias', 'qa_outputs.weight']\n",
       "You should probably TRAIN this model on a down-stream task to be able to use it for predictions and inference.\n"
      ]
     },
     "metadata": {},
     "output_type": "display_data"
    }
   ],
   "source": [
    "%%px\n",
    "model = BertForQuestionAnswering.from_pretrained(\n",
    "    hf_model,\n",
    "    cache_dir=os.path.join(bert_cache, f'{hf_model}_qa')\n",
    ")"
   ]
  },
  {
   "cell_type": "code",
   "execution_count": 9,
   "metadata": {},
   "outputs": [
    {
     "data": {
      "text/plain": [
       "[stderr:0] [W socket.cpp:401] [c10d] The server socket cannot be initialized on [::]:39591 (errno: 97 - Address family not supported by protocol).\n",
       "[W socket.cpp:558] [c10d] The client socket cannot be initialized to connect to [nid04676]:39591 (errno: 97 - Address family not supported by protocol).\n",
       "[W socket.cpp:558] [c10d] The client socket cannot be initialized to connect to [nid04676]:39591 (errno: 97 - Address family not supported by protocol).\n"
      ]
     },
     "metadata": {},
     "output_type": "display_data"
    },
    {
     "data": {
      "text/plain": [
       "[stderr:1] [W socket.cpp:558] [c10d] The client socket cannot be initialized to connect to [nid04676]:39591 (errno: 97 - Address family not supported by protocol).\n",
       "[W socket.cpp:558] [c10d] The client socket cannot be initialized to connect to [nid04676]:39591 (errno: 97 - Address family not supported by protocol).\n"
      ]
     },
     "metadata": {},
     "output_type": "display_data"
    }
   ],
   "source": [
    "%%px\n",
    "from pt_distr_env import DistributedEnviron\n",
    "\n",
    "distr_env = DistributedEnviron()\n",
    "dist.init_process_group(backend=\"nccl\")\n",
    "rank = dist.get_rank()\n",
    "world_size = dist.get_world_size()"
   ]
  },
  {
   "cell_type": "code",
   "execution_count": 10,
   "metadata": {},
   "outputs": [
    {
     "data": {
      "text/plain": [
       "[stderr:0] WARNING:datasets.builder:Reusing dataset squad (/users/class424/.cache/huggingface/datasets/squad/plain_text/1.0.0/d6ec3ceb99ca480ce37cdd35555d6cb2511d223b9150cce08a837ef62ffea453)\n"
      ]
     },
     "metadata": {},
     "output_type": "display_data"
    },
    {
     "data": {
      "text/plain": [
       "[stderr:1] WARNING:datasets.builder:Reusing dataset squad (/users/class424/.cache/huggingface/datasets/squad/plain_text/1.0.0/d6ec3ceb99ca480ce37cdd35555d6cb2511d223b9150cce08a837ef62ffea453)\n"
      ]
     },
     "metadata": {},
     "output_type": "display_data"
    }
   ],
   "source": [
    "%%px\n",
    "hf_dataset = load_dataset('squad')"
   ]
  },
  {
   "cell_type": "code",
   "execution_count": 11,
   "metadata": {},
   "outputs": [],
   "source": [
    "%%px\n",
    "max_len = 384"
   ]
  },
  {
   "cell_type": "code",
   "execution_count": 12,
   "metadata": {},
   "outputs": [],
   "source": [
    "%%px\n",
    "hf_dataset.flatten()\n",
    "processed_dataset = hf_dataset.flatten().map(\n",
    "    lambda example: dpp.process_squad_item_batched(example, max_len, tokenizer),\n",
    "    remove_columns=hf_dataset.flatten()['train'].column_names,\n",
    "    batched=True,\n",
    "    num_proc=12\n",
    ")"
   ]
  },
  {
   "cell_type": "code",
   "execution_count": 13,
   "metadata": {},
   "outputs": [],
   "source": [
    "%%px\n",
    "train_dataset = processed_dataset[\"train\"]\n",
    "train_dataset.set_format(type='torch')\n",
    "\n",
    "eval_dataset = processed_dataset[\"validation\"]\n",
    "eval_dataset.set_format(type='torch')"
   ]
  },
  {
   "cell_type": "code",
   "execution_count": 14,
   "metadata": {},
   "outputs": [],
   "source": [
    "%%px\n",
    "per_device_train_batch_size = 16\n",
    "per_device_eval_batch_size = 1\n",
    "\n",
    "train_sampler = DistributedSampler(train_dataset, num_replicas=world_size,\n",
    "                                   rank=rank, shuffle=False, seed=42)\n",
    "\n",
    "train_dataloader = DataLoader(\n",
    "    train_dataset,\n",
    "    shuffle=False,  # sampler option is mutually exclusive with shuffle\n",
    "    batch_size=per_device_train_batch_size,\n",
    "    sampler=train_sampler\n",
    ")\n",
    "\n",
    "eval_dataloader = DataLoader(\n",
    "    eval_dataset,\n",
    "    shuffle=False,\n",
    "    batch_size=per_device_eval_batch_size\n",
    ")"
   ]
  },
  {
   "cell_type": "code",
   "execution_count": 15,
   "metadata": {},
   "outputs": [
    {
     "data": {
      "text/plain": [
       "[stderr:0] libibverbs: Could not locate libibgni (/usr/lib64/libibgni.so.1: undefined symbol: verbs_uninit_context)\n",
       "libibverbs: Warning: couldn't open config directory '/opt/cray/rdma-core/27.1-7.0.3.1_4.6__g4beae6eb.ari/etc/libibverbs.d'.\n"
      ]
     },
     "metadata": {},
     "output_type": "display_data"
    },
    {
     "data": {
      "text/plain": [
       "\u001b[0;31mOut[0:12]: \u001b[0mTrue"
      ]
     },
     "metadata": {
      "after": null,
      "completed": null,
      "data": {},
      "engine_id": 0,
      "engine_uuid": "fed4c421-a0046518e308ece63668cdd1",
      "error": null,
      "execute_input": "device = 0\nmodel.to(device)\nmodel = DistributedDataParallel(model, device_ids=[device])\nmodel.train()\n\nmodel.training\n",
      "execute_result": {
       "data": {
        "text/plain": "True"
       },
       "execution_count": 12,
       "metadata": {}
      },
      "follow": null,
      "msg_id": null,
      "outputs": [],
      "received": null,
      "started": null,
      "status": null,
      "stderr": "libibverbs: Could not locate libibgni (/usr/lib64/libibgni.so.1: undefined symbol: verbs_uninit_context)\nlibibverbs: Warning: couldn't open config directory '/opt/cray/rdma-core/27.1-7.0.3.1_4.6__g4beae6eb.ari/etc/libibverbs.d'.\n",
      "stdout": "",
      "submitted": "2022-10-13T10:44:07.562183Z"
     },
     "output_type": "display_data"
    },
    {
     "data": {
      "text/plain": [
       "[stderr:1] libibverbs: Could not locate libibgni (/usr/lib64/libibgni.so.1: undefined symbol: verbs_uninit_context)\n",
       "libibverbs: Warning: couldn't open config directory '/opt/cray/rdma-core/27.1-7.0.3.1_4.6__g4beae6eb.ari/etc/libibverbs.d'.\n"
      ]
     },
     "metadata": {},
     "output_type": "display_data"
    },
    {
     "data": {
      "text/plain": [
       "\u001b[0;31mOut[1:12]: \u001b[0mTrue"
      ]
     },
     "metadata": {
      "after": null,
      "completed": null,
      "data": {},
      "engine_id": 1,
      "engine_uuid": "d844e695-6aa52e1e8ac0f00369eb47ea",
      "error": null,
      "execute_input": "device = 0\nmodel.to(device)\nmodel = DistributedDataParallel(model, device_ids=[device])\nmodel.train()\n\nmodel.training\n",
      "execute_result": {
       "data": {
        "text/plain": "True"
       },
       "execution_count": 12,
       "metadata": {}
      },
      "follow": null,
      "msg_id": null,
      "outputs": [],
      "received": null,
      "started": null,
      "status": null,
      "stderr": "libibverbs: Could not locate libibgni (/usr/lib64/libibgni.so.1: undefined symbol: verbs_uninit_context)\nlibibverbs: Warning: couldn't open config directory '/opt/cray/rdma-core/27.1-7.0.3.1_4.6__g4beae6eb.ari/etc/libibverbs.d'.\n",
      "stdout": "",
      "submitted": "2022-10-13T10:44:07.562347Z"
     },
     "output_type": "display_data"
    }
   ],
   "source": [
    "%%px\n",
    "device = 0\n",
    "model.to(device)\n",
    "model = DistributedDataParallel(model, device_ids=[device])\n",
    "model.train()\n",
    "\n",
    "model.training"
   ]
  },
  {
   "cell_type": "code",
   "execution_count": 16,
   "metadata": {},
   "outputs": [],
   "source": [
    "%%px\n",
    "optim = torch.optim.AdamW(model.parameters(), lr=5e-5)"
   ]
  },
  {
   "cell_type": "code",
   "execution_count": 17,
   "metadata": {
    "tags": []
   },
   "outputs": [],
   "source": [
    "%%px\n",
    "for epoch in range(1):\n",
    "    for i, batch in enumerate(train_dataloader):\n",
    "        optim.zero_grad()\n",
    "        outputs = model(input_ids=batch['input_ids'].to(device),\n",
    "                        token_type_ids=batch['token_type_ids'].to(device),\n",
    "                        attention_mask=batch['attention_mask'].to(device),\n",
    "                        start_positions=batch['start_token_idx'].to(device),\n",
    "                        end_positions=batch['end_token_idx'].to(device))        \n",
    "        loss = outputs[0]\n",
    "        loss.backward()\n",
    "        optim.step()\n",
    "        \n",
    "        if i > 100:\n",
    "            break"
   ]
  },
  {
   "cell_type": "markdown",
   "metadata": {},
   "source": [
    "## Saving the model"
   ]
  },
  {
   "cell_type": "code",
   "execution_count": 18,
   "metadata": {},
   "outputs": [],
   "source": [
    "%%px --target 0\n",
    "model_hash = datetime.now().strftime(\"%Y-%m-%d-%H%M%S\")\n",
    "model_path_name = f'./cache/model_trained_pytorch_{model_hash}'\n",
    "\n",
    "# save model's state_dict\n",
    "# the model now is a DDP model\n",
    "# use `model.module.state_dict()` in order the load it later on\n",
    "# any number of nodes\n",
    "torch.save(model.module.state_dict(), model_path_name)"
   ]
  },
  {
   "cell_type": "code",
   "execution_count": 19,
   "metadata": {},
   "outputs": [
    {
     "data": {
      "text/plain": [
       "[stderr:0] Some weights of the model checkpoint at bert-base-uncased were not used when initializing BertForQuestionAnswering: ['cls.predictions.transform.LayerNorm.weight', 'cls.seq_relationship.bias', 'cls.predictions.transform.dense.weight', 'cls.predictions.transform.LayerNorm.bias', 'cls.predictions.decoder.weight', 'cls.seq_relationship.weight', 'cls.predictions.bias', 'cls.predictions.transform.dense.bias']\n",
       "- This IS expected if you are initializing BertForQuestionAnswering from the checkpoint of a model trained on another task or with another architecture (e.g. initializing a BertForSequenceClassification model from a BertForPreTraining model).\n",
       "- This IS NOT expected if you are initializing BertForQuestionAnswering from the checkpoint of a model that you expect to be exactly identical (initializing a BertForSequenceClassification model from a BertForSequenceClassification model).\n",
       "Some weights of BertForQuestionAnswering were not initialized from the model checkpoint at bert-base-uncased and are newly initialized: ['qa_outputs.weight', 'qa_outputs.bias']\n",
       "You should probably TRAIN this model on a down-stream task to be able to use it for predictions and inference.\n"
      ]
     },
     "metadata": {},
     "output_type": "display_data"
    },
    {
     "data": {
      "text/plain": [
       "\u001b[0;31mOut[0:16]: \u001b[0m<All keys matched successfully>"
      ]
     },
     "metadata": {
      "after": null,
      "completed": null,
      "data": {},
      "engine_id": 0,
      "engine_uuid": "fed4c421-a0046518e308ece63668cdd1",
      "error": null,
      "execute_input": "# create the model again since the previous one is on the gpu\nmodel_cpu = BertForQuestionAnswering.from_pretrained(\n    \"bert-base-uncased\",\n    cache_dir=os.path.join(bert_cache, 'bert-base-uncased_qa')\n)\n\n# load the model on cpu\nmodel_cpu.load_state_dict(\n    torch.load(model_path_name,\n               map_location=torch.device('cpu'))\n)\n\n# load the model on gpu\n# model.load_state_dict(torch.load(model_path_name))\n",
      "execute_result": {
       "data": {
        "text/plain": "<All keys matched successfully>"
       },
       "execution_count": 16,
       "metadata": {}
      },
      "follow": null,
      "msg_id": null,
      "outputs": [],
      "received": null,
      "started": null,
      "status": null,
      "stderr": "Some weights of the model checkpoint at bert-base-uncased were not used when initializing BertForQuestionAnswering: ['cls.predictions.transform.LayerNorm.weight', 'cls.seq_relationship.bias', 'cls.predictions.transform.dense.weight', 'cls.predictions.transform.LayerNorm.bias', 'cls.predictions.decoder.weight', 'cls.seq_relationship.weight', 'cls.predictions.bias', 'cls.predictions.transform.dense.bias']\n- This IS expected if you are initializing BertForQuestionAnswering from the checkpoint of a model trained on another task or with another architecture (e.g. initializing a BertForSequenceClassification model from a BertForPreTraining model).\n- This IS NOT expected if you are initializing BertForQuestionAnswering from the checkpoint of a model that you expect to be exactly identical (initializing a BertForSequenceClassification model from a BertForSequenceClassification model).\nSome weights of BertForQuestionAnswering were not initialized from the model checkpoint at bert-base-uncased and are newly initialized: ['qa_outputs.weight', 'qa_outputs.bias']\nYou should probably TRAIN this model on a down-stream task to be able to use it for predictions and inference.\n",
      "stdout": "",
      "submitted": "2022-10-13T10:47:49.138429Z"
     },
     "output_type": "display_data"
    }
   ],
   "source": [
    "%%px --target 0\n",
    "# create the model again since the previous one is on the gpu\n",
    "model_cpu = BertForQuestionAnswering.from_pretrained(\n",
    "    \"bert-base-uncased\",\n",
    "    cache_dir=os.path.join(bert_cache, 'bert-base-uncased_qa')\n",
    ")\n",
    "\n",
    "# load the model on cpu\n",
    "model_cpu.load_state_dict(\n",
    "    torch.load(model_path_name,\n",
    "               map_location=torch.device('cpu'))\n",
    ")\n",
    "\n",
    "# load the model on gpu\n",
    "# model.load_state_dict(torch.load(model_path_name))"
   ]
  },
  {
   "cell_type": "code",
   "execution_count": 20,
   "metadata": {},
   "outputs": [
    {
     "data": {
      "text/plain": [
       "\u001b[0;31mOut[0:17]: \u001b[0mFalse"
      ]
     },
     "metadata": {
      "after": null,
      "completed": null,
      "data": {},
      "engine_id": 0,
      "engine_uuid": "fed4c421-a0046518e308ece63668cdd1",
      "error": null,
      "execute_input": "model.eval()\n\nmodel.training\n",
      "execute_result": {
       "data": {
        "text/plain": "False"
       },
       "execution_count": 17,
       "metadata": {}
      },
      "follow": null,
      "msg_id": null,
      "outputs": [],
      "received": null,
      "started": null,
      "status": null,
      "stderr": "",
      "stdout": "",
      "submitted": "2022-10-13T10:48:00.617425Z"
     },
     "output_type": "display_data"
    }
   ],
   "source": [
    "%%px --target 0\n",
    "model.eval()\n",
    "\n",
    "model.training"
   ]
  },
  {
   "cell_type": "code",
   "execution_count": 21,
   "metadata": {},
   "outputs": [],
   "source": [
    "%%px --target 0\n",
    "squad_example_objects = []\n",
    "for item in hf_dataset['validation'].flatten():\n",
    "    squad_examples = dpp.squad_examples_from_dataset(item, max_len, tokenizer)\n",
    "    try:\n",
    "        squad_example_objects.extend(squad_examples)\n",
    "    except TypeError:\n",
    "        squad_example_objects.append(squad_examples)\n",
    "        \n",
    "assert len(eval_dataset) == len(squad_example_objects)"
   ]
  },
  {
   "cell_type": "code",
   "execution_count": 22,
   "metadata": {},
   "outputs": [
    {
     "data": {
      "text/plain": [
       "[output:0]"
      ]
     },
     "metadata": {},
     "output_type": "display_data"
    },
    {
     "data": {
      "text/html": [
       "<pre style=\"white-space:pre;overflow-x:auto;line-height:normal;font-family:Menlo,'DejaVu Sans Mono',consolas,'Courier New',monospace\"><span style=\"color: #800080; text-decoration-color: #800080\">──────────────────────────── </span>{'exact_match': 100.0, 'f1': 100.0}<span style=\"color: #800080; text-decoration-color: #800080\"> ────────────────────────────</span>\n",
       "</pre>\n"
      ],
      "text/plain": [
       "\u001b[35m──────────────────────────── \u001b[0m{'exact_match': 100.0, 'f1': 100.0}\u001b[35m ────────────────────────────\u001b[0m\n"
      ]
     },
     "metadata": {
      "engine": 0
     },
     "output_type": "display_data"
    },
    {
     "data": {
      "text/plain": [
       "[output:0]"
      ]
     },
     "metadata": {},
     "output_type": "display_data"
    },
    {
     "data": {
      "text/html": [
       "<pre style=\"white-space:pre;overflow-x:auto;line-height:normal;font-family:Menlo,'DejaVu Sans Mono',consolas,'Courier New',monospace\">❓ <span style=\"font-weight: bold\">Which NFL team represented the AFC at Super Bowl 50?</span>\n",
       "</pre>\n"
      ],
      "text/plain": [
       "❓ \u001b[1mWhich NFL team represented the AFC at Super Bowl 50?\u001b[0m\n"
      ]
     },
     "metadata": {
      "engine": 0
     },
     "output_type": "display_data"
    },
    {
     "data": {
      "text/plain": [
       "[output:0]"
      ]
     },
     "metadata": {},
     "output_type": "display_data"
    },
    {
     "data": {
      "text/html": [
       "<pre style=\"white-space:pre;overflow-x:auto;line-height:normal;font-family:Menlo,'DejaVu Sans Mono',consolas,'Courier New',monospace\">🤖 Super Bowl 50 was an American football game to determine the champion of the National \n",
       "Football League (NFL) for the 2015 season. The American Football Conference (AFC) champion \n",
       "<span style=\"color: #000000; text-decoration-color: #000000; background-color: #90ee90\">Denver Broncos</span> defeated the National Football Conference (NFC) champion Carolina Panthers \n",
       "24–10 to earn their third Super Bowl title. The game was played on February 7, 2016, at \n",
       "Levi's Stadium in the San Francisco Bay Area at Santa Clara, California. As this was the 50th\n",
       "Super Bowl, the league emphasized the \"golden anniversary\" with various gold-themed \n",
       "initiatives, as well as temporarily suspending the tradition of naming each Super Bowl game \n",
       "with Roman numerals (under which the game would have been known as \"Super Bowl L\"), so that \n",
       "the logo could prominently feature the Arabic numerals 50.\n",
       "</pre>\n"
      ],
      "text/plain": [
       "🤖 Super Bowl 50 was an American football game to determine the champion of the National \n",
       "Football League (NFL) for the 2015 season. The American Football Conference (AFC) champion \n",
       "\u001b[30;48;2;144;238;144mDenver Broncos\u001b[0m defeated the National Football Conference (NFC) champion Carolina Panthers \n",
       "24–10 to earn their third Super Bowl title. The game was played on February 7, 2016, at \n",
       "Levi's Stadium in the San Francisco Bay Area at Santa Clara, California. As this was the 50th\n",
       "Super Bowl, the league emphasized the \"golden anniversary\" with various gold-themed \n",
       "initiatives, as well as temporarily suspending the tradition of naming each Super Bowl game \n",
       "with Roman numerals (under which the game would have been known as \"Super Bowl L\"), so that \n",
       "the logo could prominently feature the Arabic numerals 50.\n"
      ]
     },
     "metadata": {
      "engine": 0
     },
     "output_type": "display_data"
    },
    {
     "data": {
      "text/plain": [
       "[output:0]"
      ]
     },
     "metadata": {},
     "output_type": "display_data"
    },
    {
     "data": {
      "text/html": [
       "<pre style=\"white-space:pre;overflow-x:auto;line-height:normal;font-family:Menlo,'DejaVu Sans Mono',consolas,'Courier New',monospace\">✅ Denver Broncos                \n",
       "</pre>\n"
      ],
      "text/plain": [
       "✅ Denver Broncos                \n"
      ]
     },
     "metadata": {
      "engine": 0
     },
     "output_type": "display_data"
    },
    {
     "data": {
      "text/plain": [
       "[output:0]"
      ]
     },
     "metadata": {},
     "output_type": "display_data"
    },
    {
     "data": {
      "text/html": [
       "<pre style=\"white-space:pre;overflow-x:auto;line-height:normal;font-family:Menlo,'DejaVu Sans Mono',consolas,'Courier New',monospace\"><span style=\"color: #800080; text-decoration-color: #800080\">──────────────────────────── </span>{'exact_match': 100.0, 'f1': 100.0}<span style=\"color: #800080; text-decoration-color: #800080\"> ────────────────────────────</span>\n",
       "</pre>\n"
      ],
      "text/plain": [
       "\u001b[35m──────────────────────────── \u001b[0m{'exact_match': 100.0, 'f1': 100.0}\u001b[35m ────────────────────────────\u001b[0m\n"
      ]
     },
     "metadata": {
      "engine": 0
     },
     "output_type": "display_data"
    },
    {
     "data": {
      "text/plain": [
       "[output:0]"
      ]
     },
     "metadata": {},
     "output_type": "display_data"
    },
    {
     "data": {
      "text/html": [
       "<pre style=\"white-space:pre;overflow-x:auto;line-height:normal;font-family:Menlo,'DejaVu Sans Mono',consolas,'Courier New',monospace\">❓ <span style=\"font-weight: bold\">Which NFL team represented the AFC at Super Bowl 50?</span>\n",
       "</pre>\n"
      ],
      "text/plain": [
       "❓ \u001b[1mWhich NFL team represented the AFC at Super Bowl 50?\u001b[0m\n"
      ]
     },
     "metadata": {
      "engine": 0
     },
     "output_type": "display_data"
    },
    {
     "data": {
      "text/plain": [
       "[output:0]"
      ]
     },
     "metadata": {},
     "output_type": "display_data"
    },
    {
     "data": {
      "text/html": [
       "<pre style=\"white-space:pre;overflow-x:auto;line-height:normal;font-family:Menlo,'DejaVu Sans Mono',consolas,'Courier New',monospace\">🤖 Super Bowl 50 was an American football game to determine the champion of the National \n",
       "Football League (NFL) for the 2015 season. The American Football Conference (AFC) champion \n",
       "<span style=\"color: #000000; text-decoration-color: #000000; background-color: #90ee90\">Denver Broncos</span> defeated the National Football Conference (NFC) champion Carolina Panthers \n",
       "24–10 to earn their third Super Bowl title. The game was played on February 7, 2016, at \n",
       "Levi's Stadium in the San Francisco Bay Area at Santa Clara, California. As this was the 50th\n",
       "Super Bowl, the league emphasized the \"golden anniversary\" with various gold-themed \n",
       "initiatives, as well as temporarily suspending the tradition of naming each Super Bowl game \n",
       "with Roman numerals (under which the game would have been known as \"Super Bowl L\"), so that \n",
       "the logo could prominently feature the Arabic numerals 50.\n",
       "</pre>\n"
      ],
      "text/plain": [
       "🤖 Super Bowl 50 was an American football game to determine the champion of the National \n",
       "Football League (NFL) for the 2015 season. The American Football Conference (AFC) champion \n",
       "\u001b[30;48;2;144;238;144mDenver Broncos\u001b[0m defeated the National Football Conference (NFC) champion Carolina Panthers \n",
       "24–10 to earn their third Super Bowl title. The game was played on February 7, 2016, at \n",
       "Levi's Stadium in the San Francisco Bay Area at Santa Clara, California. As this was the 50th\n",
       "Super Bowl, the league emphasized the \"golden anniversary\" with various gold-themed \n",
       "initiatives, as well as temporarily suspending the tradition of naming each Super Bowl game \n",
       "with Roman numerals (under which the game would have been known as \"Super Bowl L\"), so that \n",
       "the logo could prominently feature the Arabic numerals 50.\n"
      ]
     },
     "metadata": {
      "engine": 0
     },
     "output_type": "display_data"
    },
    {
     "data": {
      "text/plain": [
       "[output:0]"
      ]
     },
     "metadata": {},
     "output_type": "display_data"
    },
    {
     "data": {
      "text/html": [
       "<pre style=\"white-space:pre;overflow-x:auto;line-height:normal;font-family:Menlo,'DejaVu Sans Mono',consolas,'Courier New',monospace\">✅ Denver Broncos                \n",
       "</pre>\n"
      ],
      "text/plain": [
       "✅ Denver Broncos                \n"
      ]
     },
     "metadata": {
      "engine": 0
     },
     "output_type": "display_data"
    },
    {
     "data": {
      "text/plain": [
       "[output:0]"
      ]
     },
     "metadata": {},
     "output_type": "display_data"
    },
    {
     "data": {
      "text/html": [
       "<pre style=\"white-space:pre;overflow-x:auto;line-height:normal;font-family:Menlo,'DejaVu Sans Mono',consolas,'Courier New',monospace\"><span style=\"color: #800080; text-decoration-color: #800080\">────────────────────────────── </span>{'exact_match': 0.0, 'f1': 0.0}<span style=\"color: #800080; text-decoration-color: #800080\"> ──────────────────────────────</span>\n",
       "</pre>\n"
      ],
      "text/plain": [
       "\u001b[35m────────────────────────────── \u001b[0m{'exact_match': 0.0, 'f1': 0.0}\u001b[35m ──────────────────────────────\u001b[0m\n"
      ]
     },
     "metadata": {
      "engine": 0
     },
     "output_type": "display_data"
    },
    {
     "data": {
      "text/plain": [
       "[output:0]"
      ]
     },
     "metadata": {},
     "output_type": "display_data"
    },
    {
     "data": {
      "text/html": [
       "<pre style=\"white-space:pre;overflow-x:auto;line-height:normal;font-family:Menlo,'DejaVu Sans Mono',consolas,'Courier New',monospace\">❓ <span style=\"font-weight: bold\">Which NFL team represented the NFC at Super Bowl 50?</span>\n",
       "</pre>\n"
      ],
      "text/plain": [
       "❓ \u001b[1mWhich NFL team represented the NFC at Super Bowl 50?\u001b[0m\n"
      ]
     },
     "metadata": {
      "engine": 0
     },
     "output_type": "display_data"
    },
    {
     "data": {
      "text/plain": [
       "[output:0]"
      ]
     },
     "metadata": {},
     "output_type": "display_data"
    },
    {
     "data": {
      "text/html": [
       "<pre style=\"white-space:pre;overflow-x:auto;line-height:normal;font-family:Menlo,'DejaVu Sans Mono',consolas,'Courier New',monospace\">🤖 Super Bowl 50 was an American football game to determine the champion of the National \n",
       "Football League (NFL) for the 2015 season. The American Football Conference (AFC) champion \n",
       "<span style=\"color: #000000; text-decoration-color: #000000; background-color: #90ee90\">Denver Broncos</span> defeated the National Football Conference (NFC) champion Carolina Panthers \n",
       "24–10 to earn their third Super Bowl title. The game was played on February 7, 2016, at \n",
       "Levi's Stadium in the San Francisco Bay Area at Santa Clara, California. As this was the 50th\n",
       "Super Bowl, the league emphasized the \"golden anniversary\" with various gold-themed \n",
       "initiatives, as well as temporarily suspending the tradition of naming each Super Bowl game \n",
       "with Roman numerals (under which the game would have been known as \"Super Bowl L\"), so that \n",
       "the logo could prominently feature the Arabic numerals 50.\n",
       "</pre>\n"
      ],
      "text/plain": [
       "🤖 Super Bowl 50 was an American football game to determine the champion of the National \n",
       "Football League (NFL) for the 2015 season. The American Football Conference (AFC) champion \n",
       "\u001b[30;48;2;144;238;144mDenver Broncos\u001b[0m defeated the National Football Conference (NFC) champion Carolina Panthers \n",
       "24–10 to earn their third Super Bowl title. The game was played on February 7, 2016, at \n",
       "Levi's Stadium in the San Francisco Bay Area at Santa Clara, California. As this was the 50th\n",
       "Super Bowl, the league emphasized the \"golden anniversary\" with various gold-themed \n",
       "initiatives, as well as temporarily suspending the tradition of naming each Super Bowl game \n",
       "with Roman numerals (under which the game would have been known as \"Super Bowl L\"), so that \n",
       "the logo could prominently feature the Arabic numerals 50.\n"
      ]
     },
     "metadata": {
      "engine": 0
     },
     "output_type": "display_data"
    },
    {
     "data": {
      "text/plain": [
       "[output:0]"
      ]
     },
     "metadata": {},
     "output_type": "display_data"
    },
    {
     "data": {
      "text/html": [
       "<pre style=\"white-space:pre;overflow-x:auto;line-height:normal;font-family:Menlo,'DejaVu Sans Mono',consolas,'Courier New',monospace\">✅ Carolina Panthers             \n",
       "</pre>\n"
      ],
      "text/plain": [
       "✅ Carolina Panthers             \n"
      ]
     },
     "metadata": {
      "engine": 0
     },
     "output_type": "display_data"
    },
    {
     "data": {
      "text/plain": [
       "[output:0]"
      ]
     },
     "metadata": {},
     "output_type": "display_data"
    },
    {
     "data": {
      "text/html": [
       "<pre style=\"white-space:pre;overflow-x:auto;line-height:normal;font-family:Menlo,'DejaVu Sans Mono',consolas,'Courier New',monospace\"><span style=\"color: #800080; text-decoration-color: #800080\">────────────────────────────── </span>{'exact_match': 0.0, 'f1': 0.0}<span style=\"color: #800080; text-decoration-color: #800080\"> ──────────────────────────────</span>\n",
       "</pre>\n"
      ],
      "text/plain": [
       "\u001b[35m────────────────────────────── \u001b[0m{'exact_match': 0.0, 'f1': 0.0}\u001b[35m ──────────────────────────────\u001b[0m\n"
      ]
     },
     "metadata": {
      "engine": 0
     },
     "output_type": "display_data"
    },
    {
     "data": {
      "text/plain": [
       "[output:0]"
      ]
     },
     "metadata": {},
     "output_type": "display_data"
    },
    {
     "data": {
      "text/html": [
       "<pre style=\"white-space:pre;overflow-x:auto;line-height:normal;font-family:Menlo,'DejaVu Sans Mono',consolas,'Courier New',monospace\">❓ <span style=\"font-weight: bold\">Which NFL team represented the NFC at Super Bowl 50?</span>\n",
       "</pre>\n"
      ],
      "text/plain": [
       "❓ \u001b[1mWhich NFL team represented the NFC at Super Bowl 50?\u001b[0m\n"
      ]
     },
     "metadata": {
      "engine": 0
     },
     "output_type": "display_data"
    },
    {
     "data": {
      "text/plain": [
       "[output:0]"
      ]
     },
     "metadata": {},
     "output_type": "display_data"
    },
    {
     "data": {
      "text/html": [
       "<pre style=\"white-space:pre;overflow-x:auto;line-height:normal;font-family:Menlo,'DejaVu Sans Mono',consolas,'Courier New',monospace\">🤖 Super Bowl 50 was an American football game to determine the champion of the National \n",
       "Football League (NFL) for the 2015 season. The American Football Conference (AFC) champion \n",
       "<span style=\"color: #000000; text-decoration-color: #000000; background-color: #90ee90\">Denver Broncos</span> defeated the National Football Conference (NFC) champion Carolina Panthers \n",
       "24–10 to earn their third Super Bowl title. The game was played on February 7, 2016, at \n",
       "Levi's Stadium in the San Francisco Bay Area at Santa Clara, California. As this was the 50th\n",
       "Super Bowl, the league emphasized the \"golden anniversary\" with various gold-themed \n",
       "initiatives, as well as temporarily suspending the tradition of naming each Super Bowl game \n",
       "with Roman numerals (under which the game would have been known as \"Super Bowl L\"), so that \n",
       "the logo could prominently feature the Arabic numerals 50.\n",
       "</pre>\n"
      ],
      "text/plain": [
       "🤖 Super Bowl 50 was an American football game to determine the champion of the National \n",
       "Football League (NFL) for the 2015 season. The American Football Conference (AFC) champion \n",
       "\u001b[30;48;2;144;238;144mDenver Broncos\u001b[0m defeated the National Football Conference (NFC) champion Carolina Panthers \n",
       "24–10 to earn their third Super Bowl title. The game was played on February 7, 2016, at \n",
       "Levi's Stadium in the San Francisco Bay Area at Santa Clara, California. As this was the 50th\n",
       "Super Bowl, the league emphasized the \"golden anniversary\" with various gold-themed \n",
       "initiatives, as well as temporarily suspending the tradition of naming each Super Bowl game \n",
       "with Roman numerals (under which the game would have been known as \"Super Bowl L\"), so that \n",
       "the logo could prominently feature the Arabic numerals 50.\n"
      ]
     },
     "metadata": {
      "engine": 0
     },
     "output_type": "display_data"
    },
    {
     "data": {
      "text/plain": [
       "[output:0]"
      ]
     },
     "metadata": {},
     "output_type": "display_data"
    },
    {
     "data": {
      "text/html": [
       "<pre style=\"white-space:pre;overflow-x:auto;line-height:normal;font-family:Menlo,'DejaVu Sans Mono',consolas,'Courier New',monospace\">✅ Carolina Panthers             \n",
       "</pre>\n"
      ],
      "text/plain": [
       "✅ Carolina Panthers             \n"
      ]
     },
     "metadata": {
      "engine": 0
     },
     "output_type": "display_data"
    },
    {
     "data": {
      "text/plain": [
       "[output:0]"
      ]
     },
     "metadata": {},
     "output_type": "display_data"
    },
    {
     "data": {
      "text/html": [
       "<pre style=\"white-space:pre;overflow-x:auto;line-height:normal;font-family:Menlo,'DejaVu Sans Mono',consolas,'Courier New',monospace\"><span style=\"color: #800080; text-decoration-color: #800080\">────────────────────────────── </span>{'exact_match': 0.0, 'f1': 0.0}<span style=\"color: #800080; text-decoration-color: #800080\"> ──────────────────────────────</span>\n",
       "</pre>\n"
      ],
      "text/plain": [
       "\u001b[35m────────────────────────────── \u001b[0m{'exact_match': 0.0, 'f1': 0.0}\u001b[35m ──────────────────────────────\u001b[0m\n"
      ]
     },
     "metadata": {
      "engine": 0
     },
     "output_type": "display_data"
    },
    {
     "data": {
      "text/plain": [
       "[output:0]"
      ]
     },
     "metadata": {},
     "output_type": "display_data"
    },
    {
     "data": {
      "text/html": [
       "<pre style=\"white-space:pre;overflow-x:auto;line-height:normal;font-family:Menlo,'DejaVu Sans Mono',consolas,'Courier New',monospace\">❓ <span style=\"font-weight: bold\">Which NFL team represented the NFC at Super Bowl 50?</span>\n",
       "</pre>\n"
      ],
      "text/plain": [
       "❓ \u001b[1mWhich NFL team represented the NFC at Super Bowl 50?\u001b[0m\n"
      ]
     },
     "metadata": {
      "engine": 0
     },
     "output_type": "display_data"
    },
    {
     "data": {
      "text/plain": [
       "[output:0]"
      ]
     },
     "metadata": {},
     "output_type": "display_data"
    },
    {
     "data": {
      "text/html": [
       "<pre style=\"white-space:pre;overflow-x:auto;line-height:normal;font-family:Menlo,'DejaVu Sans Mono',consolas,'Courier New',monospace\">🤖 Super Bowl 50 was an American football game to determine the champion of the National \n",
       "Football League (NFL) for the 2015 season. The American Football Conference (AFC) champion \n",
       "<span style=\"color: #000000; text-decoration-color: #000000; background-color: #90ee90\">Denver Broncos</span> defeated the National Football Conference (NFC) champion Carolina Panthers \n",
       "24–10 to earn their third Super Bowl title. The game was played on February 7, 2016, at \n",
       "Levi's Stadium in the San Francisco Bay Area at Santa Clara, California. As this was the 50th\n",
       "Super Bowl, the league emphasized the \"golden anniversary\" with various gold-themed \n",
       "initiatives, as well as temporarily suspending the tradition of naming each Super Bowl game \n",
       "with Roman numerals (under which the game would have been known as \"Super Bowl L\"), so that \n",
       "the logo could prominently feature the Arabic numerals 50.\n",
       "</pre>\n"
      ],
      "text/plain": [
       "🤖 Super Bowl 50 was an American football game to determine the champion of the National \n",
       "Football League (NFL) for the 2015 season. The American Football Conference (AFC) champion \n",
       "\u001b[30;48;2;144;238;144mDenver Broncos\u001b[0m defeated the National Football Conference (NFC) champion Carolina Panthers \n",
       "24–10 to earn their third Super Bowl title. The game was played on February 7, 2016, at \n",
       "Levi's Stadium in the San Francisco Bay Area at Santa Clara, California. As this was the 50th\n",
       "Super Bowl, the league emphasized the \"golden anniversary\" with various gold-themed \n",
       "initiatives, as well as temporarily suspending the tradition of naming each Super Bowl game \n",
       "with Roman numerals (under which the game would have been known as \"Super Bowl L\"), so that \n",
       "the logo could prominently feature the Arabic numerals 50.\n"
      ]
     },
     "metadata": {
      "engine": 0
     },
     "output_type": "display_data"
    },
    {
     "data": {
      "text/plain": [
       "[output:0]"
      ]
     },
     "metadata": {},
     "output_type": "display_data"
    },
    {
     "data": {
      "text/html": [
       "<pre style=\"white-space:pre;overflow-x:auto;line-height:normal;font-family:Menlo,'DejaVu Sans Mono',consolas,'Courier New',monospace\">✅ Carolina Panthers             \n",
       "</pre>\n"
      ],
      "text/plain": [
       "✅ Carolina Panthers             \n"
      ]
     },
     "metadata": {
      "engine": 0
     },
     "output_type": "display_data"
    },
    {
     "data": {
      "text/plain": [
       "[output:0]"
      ]
     },
     "metadata": {},
     "output_type": "display_data"
    },
    {
     "data": {
      "text/html": [
       "<pre style=\"white-space:pre;overflow-x:auto;line-height:normal;font-family:Menlo,'DejaVu Sans Mono',consolas,'Courier New',monospace\"><span style=\"color: #800080; text-decoration-color: #800080\">────────────────────────────── </span>{'exact_match': 0.0, 'f1': 0.0}<span style=\"color: #800080; text-decoration-color: #800080\"> ──────────────────────────────</span>\n",
       "</pre>\n"
      ],
      "text/plain": [
       "\u001b[35m────────────────────────────── \u001b[0m{'exact_match': 0.0, 'f1': 0.0}\u001b[35m ──────────────────────────────\u001b[0m\n"
      ]
     },
     "metadata": {
      "engine": 0
     },
     "output_type": "display_data"
    },
    {
     "data": {
      "text/plain": [
       "[output:0]"
      ]
     },
     "metadata": {},
     "output_type": "display_data"
    },
    {
     "data": {
      "text/html": [
       "<pre style=\"white-space:pre;overflow-x:auto;line-height:normal;font-family:Menlo,'DejaVu Sans Mono',consolas,'Courier New',monospace\">❓ <span style=\"font-weight: bold\">Where did Super Bowl 50 take place?</span>\n",
       "</pre>\n"
      ],
      "text/plain": [
       "❓ \u001b[1mWhere did Super Bowl 50 take place?\u001b[0m\n"
      ]
     },
     "metadata": {
      "engine": 0
     },
     "output_type": "display_data"
    },
    {
     "data": {
      "text/plain": [
       "[output:0]"
      ]
     },
     "metadata": {},
     "output_type": "display_data"
    },
    {
     "data": {
      "text/html": [
       "<pre style=\"white-space:pre;overflow-x:auto;line-height:normal;font-family:Menlo,'DejaVu Sans Mono',consolas,'Courier New',monospace\">🤖 Super Bowl 50 was an American football game to determine the champion of the National \n",
       "Football League (NFL) for the 2015 season. The American Football Conference (AFC) champion \n",
       "Denver Broncos defeated the National Football Conference (NFC) champion Carolina Panthers \n",
       "24–10 to earn their third Super Bowl title. The game was played on <span style=\"color: #000000; text-decoration-color: #000000; background-color: #90ee90\">February 7, 2016</span>, at \n",
       "Levi's Stadium in the San Francisco Bay Area at Santa Clara, California. As this was the 50th\n",
       "Super Bowl, the league emphasized the \"golden anniversary\" with various gold-themed \n",
       "initiatives, as well as temporarily suspending the tradition of naming each Super Bowl game \n",
       "with Roman numerals (under which the game would have been known as \"Super Bowl L\"), so that \n",
       "the logo could prominently feature the Arabic numerals 50.\n",
       "</pre>\n"
      ],
      "text/plain": [
       "🤖 Super Bowl 50 was an American football game to determine the champion of the National \n",
       "Football League (NFL) for the 2015 season. The American Football Conference (AFC) champion \n",
       "Denver Broncos defeated the National Football Conference (NFC) champion Carolina Panthers \n",
       "24–10 to earn their third Super Bowl title. The game was played on \u001b[30;48;2;144;238;144mFebruary 7, 2016\u001b[0m, at \n",
       "Levi's Stadium in the San Francisco Bay Area at Santa Clara, California. As this was the 50th\n",
       "Super Bowl, the league emphasized the \"golden anniversary\" with various gold-themed \n",
       "initiatives, as well as temporarily suspending the tradition of naming each Super Bowl game \n",
       "with Roman numerals (under which the game would have been known as \"Super Bowl L\"), so that \n",
       "the logo could prominently feature the Arabic numerals 50.\n"
      ]
     },
     "metadata": {
      "engine": 0
     },
     "output_type": "display_data"
    },
    {
     "data": {
      "text/plain": [
       "[output:0]"
      ]
     },
     "metadata": {},
     "output_type": "display_data"
    },
    {
     "data": {
      "text/html": [
       "<pre style=\"white-space:pre;overflow-x:auto;line-height:normal;font-family:Menlo,'DejaVu Sans Mono',consolas,'Courier New',monospace\">✅ Santa Clara, California       \n",
       "</pre>\n"
      ],
      "text/plain": [
       "✅ Santa Clara, California       \n"
      ]
     },
     "metadata": {
      "engine": 0
     },
     "output_type": "display_data"
    },
    {
     "data": {
      "text/plain": [
       "[output:0]"
      ]
     },
     "metadata": {},
     "output_type": "display_data"
    },
    {
     "data": {
      "text/html": [
       "<pre style=\"white-space:pre;overflow-x:auto;line-height:normal;font-family:Menlo,'DejaVu Sans Mono',consolas,'Courier New',monospace\"><span style=\"color: #800080; text-decoration-color: #800080\">────────────────────────────── </span>{'exact_match': 0.0, 'f1': 0.0}<span style=\"color: #800080; text-decoration-color: #800080\"> ──────────────────────────────</span>\n",
       "</pre>\n"
      ],
      "text/plain": [
       "\u001b[35m────────────────────────────── \u001b[0m{'exact_match': 0.0, 'f1': 0.0}\u001b[35m ──────────────────────────────\u001b[0m\n"
      ]
     },
     "metadata": {
      "engine": 0
     },
     "output_type": "display_data"
    },
    {
     "data": {
      "text/plain": [
       "[output:0]"
      ]
     },
     "metadata": {},
     "output_type": "display_data"
    },
    {
     "data": {
      "text/html": [
       "<pre style=\"white-space:pre;overflow-x:auto;line-height:normal;font-family:Menlo,'DejaVu Sans Mono',consolas,'Courier New',monospace\">❓ <span style=\"font-weight: bold\">Where did Super Bowl 50 take place?</span>\n",
       "</pre>\n"
      ],
      "text/plain": [
       "❓ \u001b[1mWhere did Super Bowl 50 take place?\u001b[0m\n"
      ]
     },
     "metadata": {
      "engine": 0
     },
     "output_type": "display_data"
    },
    {
     "data": {
      "text/plain": [
       "[output:0]"
      ]
     },
     "metadata": {},
     "output_type": "display_data"
    },
    {
     "data": {
      "text/html": [
       "<pre style=\"white-space:pre;overflow-x:auto;line-height:normal;font-family:Menlo,'DejaVu Sans Mono',consolas,'Courier New',monospace\">🤖 Super Bowl 50 was an American football game to determine the champion of the National \n",
       "Football League (NFL) for the 2015 season. The American Football Conference (AFC) champion \n",
       "Denver Broncos defeated the National Football Conference (NFC) champion Carolina Panthers \n",
       "24–10 to earn their third Super Bowl title. The game was played on <span style=\"color: #000000; text-decoration-color: #000000; background-color: #90ee90\">February 7, 2016</span>, at \n",
       "Levi's Stadium in the San Francisco Bay Area at Santa Clara, California. As this was the 50th\n",
       "Super Bowl, the league emphasized the \"golden anniversary\" with various gold-themed \n",
       "initiatives, as well as temporarily suspending the tradition of naming each Super Bowl game \n",
       "with Roman numerals (under which the game would have been known as \"Super Bowl L\"), so that \n",
       "the logo could prominently feature the Arabic numerals 50.\n",
       "</pre>\n"
      ],
      "text/plain": [
       "🤖 Super Bowl 50 was an American football game to determine the champion of the National \n",
       "Football League (NFL) for the 2015 season. The American Football Conference (AFC) champion \n",
       "Denver Broncos defeated the National Football Conference (NFC) champion Carolina Panthers \n",
       "24–10 to earn their third Super Bowl title. The game was played on \u001b[30;48;2;144;238;144mFebruary 7, 2016\u001b[0m, at \n",
       "Levi's Stadium in the San Francisco Bay Area at Santa Clara, California. As this was the 50th\n",
       "Super Bowl, the league emphasized the \"golden anniversary\" with various gold-themed \n",
       "initiatives, as well as temporarily suspending the tradition of naming each Super Bowl game \n",
       "with Roman numerals (under which the game would have been known as \"Super Bowl L\"), so that \n",
       "the logo could prominently feature the Arabic numerals 50.\n"
      ]
     },
     "metadata": {
      "engine": 0
     },
     "output_type": "display_data"
    },
    {
     "data": {
      "text/plain": [
       "[output:0]"
      ]
     },
     "metadata": {},
     "output_type": "display_data"
    },
    {
     "data": {
      "text/html": [
       "<pre style=\"white-space:pre;overflow-x:auto;line-height:normal;font-family:Menlo,'DejaVu Sans Mono',consolas,'Courier New',monospace\">✅ Levi's Stadium                \n",
       "</pre>\n"
      ],
      "text/plain": [
       "✅ Levi's Stadium                \n"
      ]
     },
     "metadata": {
      "engine": 0
     },
     "output_type": "display_data"
    },
    {
     "data": {
      "text/plain": [
       "[output:0]"
      ]
     },
     "metadata": {},
     "output_type": "display_data"
    },
    {
     "data": {
      "text/html": [
       "<pre style=\"white-space:pre;overflow-x:auto;line-height:normal;font-family:Menlo,'DejaVu Sans Mono',consolas,'Courier New',monospace\"><span style=\"color: #800080; text-decoration-color: #800080\">────────────────────────────── </span>{'exact_match': 0.0, 'f1': 0.0}<span style=\"color: #800080; text-decoration-color: #800080\"> ──────────────────────────────</span>\n",
       "</pre>\n"
      ],
      "text/plain": [
       "\u001b[35m────────────────────────────── \u001b[0m{'exact_match': 0.0, 'f1': 0.0}\u001b[35m ──────────────────────────────\u001b[0m\n"
      ]
     },
     "metadata": {
      "engine": 0
     },
     "output_type": "display_data"
    },
    {
     "data": {
      "text/plain": [
       "[output:0]"
      ]
     },
     "metadata": {},
     "output_type": "display_data"
    },
    {
     "data": {
      "text/html": [
       "<pre style=\"white-space:pre;overflow-x:auto;line-height:normal;font-family:Menlo,'DejaVu Sans Mono',consolas,'Courier New',monospace\">❓ <span style=\"font-weight: bold\">Where did Super Bowl 50 take place?</span>\n",
       "</pre>\n"
      ],
      "text/plain": [
       "❓ \u001b[1mWhere did Super Bowl 50 take place?\u001b[0m\n"
      ]
     },
     "metadata": {
      "engine": 0
     },
     "output_type": "display_data"
    },
    {
     "data": {
      "text/plain": [
       "[output:0]"
      ]
     },
     "metadata": {},
     "output_type": "display_data"
    },
    {
     "data": {
      "text/html": [
       "<pre style=\"white-space:pre;overflow-x:auto;line-height:normal;font-family:Menlo,'DejaVu Sans Mono',consolas,'Courier New',monospace\">🤖 Super Bowl 50 was an American football game to determine the champion of the National \n",
       "Football League (NFL) for the 2015 season. The American Football Conference (AFC) champion \n",
       "Denver Broncos defeated the National Football Conference (NFC) champion Carolina Panthers \n",
       "24–10 to earn their third Super Bowl title. The game was played on <span style=\"color: #000000; text-decoration-color: #000000; background-color: #90ee90\">February 7, 2016</span>, at \n",
       "Levi's Stadium in the San Francisco Bay Area at Santa Clara, California. As this was the 50th\n",
       "Super Bowl, the league emphasized the \"golden anniversary\" with various gold-themed \n",
       "initiatives, as well as temporarily suspending the tradition of naming each Super Bowl game \n",
       "with Roman numerals (under which the game would have been known as \"Super Bowl L\"), so that \n",
       "the logo could prominently feature the Arabic numerals 50.\n",
       "</pre>\n"
      ],
      "text/plain": [
       "🤖 Super Bowl 50 was an American football game to determine the champion of the National \n",
       "Football League (NFL) for the 2015 season. The American Football Conference (AFC) champion \n",
       "Denver Broncos defeated the National Football Conference (NFC) champion Carolina Panthers \n",
       "24–10 to earn their third Super Bowl title. The game was played on \u001b[30;48;2;144;238;144mFebruary 7, 2016\u001b[0m, at \n",
       "Levi's Stadium in the San Francisco Bay Area at Santa Clara, California. As this was the 50th\n",
       "Super Bowl, the league emphasized the \"golden anniversary\" with various gold-themed \n",
       "initiatives, as well as temporarily suspending the tradition of naming each Super Bowl game \n",
       "with Roman numerals (under which the game would have been known as \"Super Bowl L\"), so that \n",
       "the logo could prominently feature the Arabic numerals 50.\n"
      ]
     },
     "metadata": {
      "engine": 0
     },
     "output_type": "display_data"
    },
    {
     "data": {
      "text/plain": [
       "[output:0]"
      ]
     },
     "metadata": {},
     "output_type": "display_data"
    },
    {
     "data": {
      "text/html": [
       "<pre style=\"white-space:pre;overflow-x:auto;line-height:normal;font-family:Menlo,'DejaVu Sans Mono',consolas,'Courier New',monospace\">✅ Levi's Stadium in the San Francisco Bay Area at Santa Clara, California.\n",
       "</pre>\n"
      ],
      "text/plain": [
       "✅ Levi's Stadium in the San Francisco Bay Area at Santa Clara, California.\n"
      ]
     },
     "metadata": {
      "engine": 0
     },
     "output_type": "display_data"
    },
    {
     "data": {
      "text/plain": [
       "[output:0]"
      ]
     },
     "metadata": {},
     "output_type": "display_data"
    },
    {
     "data": {
      "text/html": [
       "<pre style=\"white-space:pre;overflow-x:auto;line-height:normal;font-family:Menlo,'DejaVu Sans Mono',consolas,'Courier New',monospace\"><span style=\"color: #800080; text-decoration-color: #800080\">──────────────────────────── </span>{'exact_match': 100.0, 'f1': 100.0}<span style=\"color: #800080; text-decoration-color: #800080\"> ────────────────────────────</span>\n",
       "</pre>\n"
      ],
      "text/plain": [
       "\u001b[35m──────────────────────────── \u001b[0m{'exact_match': 100.0, 'f1': 100.0}\u001b[35m ────────────────────────────\u001b[0m\n"
      ]
     },
     "metadata": {
      "engine": 0
     },
     "output_type": "display_data"
    },
    {
     "data": {
      "text/plain": [
       "[output:0]"
      ]
     },
     "metadata": {},
     "output_type": "display_data"
    },
    {
     "data": {
      "text/html": [
       "<pre style=\"white-space:pre;overflow-x:auto;line-height:normal;font-family:Menlo,'DejaVu Sans Mono',consolas,'Courier New',monospace\">❓ <span style=\"font-weight: bold\">Which NFL team won Super Bowl 50?</span>\n",
       "</pre>\n"
      ],
      "text/plain": [
       "❓ \u001b[1mWhich NFL team won Super Bowl 50?\u001b[0m\n"
      ]
     },
     "metadata": {
      "engine": 0
     },
     "output_type": "display_data"
    },
    {
     "data": {
      "text/plain": [
       "[output:0]"
      ]
     },
     "metadata": {},
     "output_type": "display_data"
    },
    {
     "data": {
      "text/html": [
       "<pre style=\"white-space:pre;overflow-x:auto;line-height:normal;font-family:Menlo,'DejaVu Sans Mono',consolas,'Courier New',monospace\">🤖 Super Bowl 50 was an American football game to determine the champion of the National \n",
       "Football League (NFL) for the 2015 season. The American Football Conference (AFC) champion \n",
       "<span style=\"color: #000000; text-decoration-color: #000000; background-color: #90ee90\">Denver Broncos</span> defeated the National Football Conference (NFC) champion Carolina Panthers \n",
       "24–10 to earn their third Super Bowl title. The game was played on February 7, 2016, at \n",
       "Levi's Stadium in the San Francisco Bay Area at Santa Clara, California. As this was the 50th\n",
       "Super Bowl, the league emphasized the \"golden anniversary\" with various gold-themed \n",
       "initiatives, as well as temporarily suspending the tradition of naming each Super Bowl game \n",
       "with Roman numerals (under which the game would have been known as \"Super Bowl L\"), so that \n",
       "the logo could prominently feature the Arabic numerals 50.\n",
       "</pre>\n"
      ],
      "text/plain": [
       "🤖 Super Bowl 50 was an American football game to determine the champion of the National \n",
       "Football League (NFL) for the 2015 season. The American Football Conference (AFC) champion \n",
       "\u001b[30;48;2;144;238;144mDenver Broncos\u001b[0m defeated the National Football Conference (NFC) champion Carolina Panthers \n",
       "24–10 to earn their third Super Bowl title. The game was played on February 7, 2016, at \n",
       "Levi's Stadium in the San Francisco Bay Area at Santa Clara, California. As this was the 50th\n",
       "Super Bowl, the league emphasized the \"golden anniversary\" with various gold-themed \n",
       "initiatives, as well as temporarily suspending the tradition of naming each Super Bowl game \n",
       "with Roman numerals (under which the game would have been known as \"Super Bowl L\"), so that \n",
       "the logo could prominently feature the Arabic numerals 50.\n"
      ]
     },
     "metadata": {
      "engine": 0
     },
     "output_type": "display_data"
    },
    {
     "data": {
      "text/plain": [
       "[output:0]"
      ]
     },
     "metadata": {},
     "output_type": "display_data"
    },
    {
     "data": {
      "text/html": [
       "<pre style=\"white-space:pre;overflow-x:auto;line-height:normal;font-family:Menlo,'DejaVu Sans Mono',consolas,'Courier New',monospace\">✅ Denver Broncos                \n",
       "</pre>\n"
      ],
      "text/plain": [
       "✅ Denver Broncos                \n"
      ]
     },
     "metadata": {
      "engine": 0
     },
     "output_type": "display_data"
    },
    {
     "data": {
      "text/plain": [
       "[output:0]"
      ]
     },
     "metadata": {},
     "output_type": "display_data"
    },
    {
     "data": {
      "text/html": [
       "<pre style=\"white-space:pre;overflow-x:auto;line-height:normal;font-family:Menlo,'DejaVu Sans Mono',consolas,'Courier New',monospace\"><span style=\"color: #800080; text-decoration-color: #800080\">──────────────────────────── </span>{'exact_match': 100.0, 'f1': 100.0}<span style=\"color: #800080; text-decoration-color: #800080\"> ────────────────────────────</span>\n",
       "</pre>\n"
      ],
      "text/plain": [
       "\u001b[35m──────────────────────────── \u001b[0m{'exact_match': 100.0, 'f1': 100.0}\u001b[35m ────────────────────────────\u001b[0m\n"
      ]
     },
     "metadata": {
      "engine": 0
     },
     "output_type": "display_data"
    },
    {
     "data": {
      "text/plain": [
       "[output:0]"
      ]
     },
     "metadata": {},
     "output_type": "display_data"
    },
    {
     "data": {
      "text/html": [
       "<pre style=\"white-space:pre;overflow-x:auto;line-height:normal;font-family:Menlo,'DejaVu Sans Mono',consolas,'Courier New',monospace\">❓ <span style=\"font-weight: bold\">Which NFL team won Super Bowl 50?</span>\n",
       "</pre>\n"
      ],
      "text/plain": [
       "❓ \u001b[1mWhich NFL team won Super Bowl 50?\u001b[0m\n"
      ]
     },
     "metadata": {
      "engine": 0
     },
     "output_type": "display_data"
    },
    {
     "data": {
      "text/plain": [
       "[output:0]"
      ]
     },
     "metadata": {},
     "output_type": "display_data"
    },
    {
     "data": {
      "text/html": [
       "<pre style=\"white-space:pre;overflow-x:auto;line-height:normal;font-family:Menlo,'DejaVu Sans Mono',consolas,'Courier New',monospace\">🤖 Super Bowl 50 was an American football game to determine the champion of the National \n",
       "Football League (NFL) for the 2015 season. The American Football Conference (AFC) champion \n",
       "<span style=\"color: #000000; text-decoration-color: #000000; background-color: #90ee90\">Denver Broncos</span> defeated the National Football Conference (NFC) champion Carolina Panthers \n",
       "24–10 to earn their third Super Bowl title. The game was played on February 7, 2016, at \n",
       "Levi's Stadium in the San Francisco Bay Area at Santa Clara, California. As this was the 50th\n",
       "Super Bowl, the league emphasized the \"golden anniversary\" with various gold-themed \n",
       "initiatives, as well as temporarily suspending the tradition of naming each Super Bowl game \n",
       "with Roman numerals (under which the game would have been known as \"Super Bowl L\"), so that \n",
       "the logo could prominently feature the Arabic numerals 50.\n",
       "</pre>\n"
      ],
      "text/plain": [
       "🤖 Super Bowl 50 was an American football game to determine the champion of the National \n",
       "Football League (NFL) for the 2015 season. The American Football Conference (AFC) champion \n",
       "\u001b[30;48;2;144;238;144mDenver Broncos\u001b[0m defeated the National Football Conference (NFC) champion Carolina Panthers \n",
       "24–10 to earn their third Super Bowl title. The game was played on February 7, 2016, at \n",
       "Levi's Stadium in the San Francisco Bay Area at Santa Clara, California. As this was the 50th\n",
       "Super Bowl, the league emphasized the \"golden anniversary\" with various gold-themed \n",
       "initiatives, as well as temporarily suspending the tradition of naming each Super Bowl game \n",
       "with Roman numerals (under which the game would have been known as \"Super Bowl L\"), so that \n",
       "the logo could prominently feature the Arabic numerals 50.\n"
      ]
     },
     "metadata": {
      "engine": 0
     },
     "output_type": "display_data"
    },
    {
     "data": {
      "text/plain": [
       "[output:0]"
      ]
     },
     "metadata": {},
     "output_type": "display_data"
    },
    {
     "data": {
      "text/html": [
       "<pre style=\"white-space:pre;overflow-x:auto;line-height:normal;font-family:Menlo,'DejaVu Sans Mono',consolas,'Courier New',monospace\">✅ Denver Broncos                \n",
       "</pre>\n"
      ],
      "text/plain": [
       "✅ Denver Broncos                \n"
      ]
     },
     "metadata": {
      "engine": 0
     },
     "output_type": "display_data"
    },
    {
     "data": {
      "text/plain": [
       "[output:0]"
      ]
     },
     "metadata": {},
     "output_type": "display_data"
    },
    {
     "data": {
      "text/html": [
       "<pre style=\"white-space:pre;overflow-x:auto;line-height:normal;font-family:Menlo,'DejaVu Sans Mono',consolas,'Courier New',monospace\"><span style=\"color: #800080; text-decoration-color: #800080\">──────────────────────────── </span>{'exact_match': 100.0, 'f1': 100.0}<span style=\"color: #800080; text-decoration-color: #800080\"> ────────────────────────────</span>\n",
       "</pre>\n"
      ],
      "text/plain": [
       "\u001b[35m──────────────────────────── \u001b[0m{'exact_match': 100.0, 'f1': 100.0}\u001b[35m ────────────────────────────\u001b[0m\n"
      ]
     },
     "metadata": {
      "engine": 0
     },
     "output_type": "display_data"
    },
    {
     "data": {
      "text/plain": [
       "[output:0]"
      ]
     },
     "metadata": {},
     "output_type": "display_data"
    },
    {
     "data": {
      "text/html": [
       "<pre style=\"white-space:pre;overflow-x:auto;line-height:normal;font-family:Menlo,'DejaVu Sans Mono',consolas,'Courier New',monospace\">❓ <span style=\"font-weight: bold\">Which NFL team won Super Bowl 50?</span>\n",
       "</pre>\n"
      ],
      "text/plain": [
       "❓ \u001b[1mWhich NFL team won Super Bowl 50?\u001b[0m\n"
      ]
     },
     "metadata": {
      "engine": 0
     },
     "output_type": "display_data"
    },
    {
     "data": {
      "text/plain": [
       "[output:0]"
      ]
     },
     "metadata": {},
     "output_type": "display_data"
    },
    {
     "data": {
      "text/html": [
       "<pre style=\"white-space:pre;overflow-x:auto;line-height:normal;font-family:Menlo,'DejaVu Sans Mono',consolas,'Courier New',monospace\">🤖 Super Bowl 50 was an American football game to determine the champion of the National \n",
       "Football League (NFL) for the 2015 season. The American Football Conference (AFC) champion \n",
       "<span style=\"color: #000000; text-decoration-color: #000000; background-color: #90ee90\">Denver Broncos</span> defeated the National Football Conference (NFC) champion Carolina Panthers \n",
       "24–10 to earn their third Super Bowl title. The game was played on February 7, 2016, at \n",
       "Levi's Stadium in the San Francisco Bay Area at Santa Clara, California. As this was the 50th\n",
       "Super Bowl, the league emphasized the \"golden anniversary\" with various gold-themed \n",
       "initiatives, as well as temporarily suspending the tradition of naming each Super Bowl game \n",
       "with Roman numerals (under which the game would have been known as \"Super Bowl L\"), so that \n",
       "the logo could prominently feature the Arabic numerals 50.\n",
       "</pre>\n"
      ],
      "text/plain": [
       "🤖 Super Bowl 50 was an American football game to determine the champion of the National \n",
       "Football League (NFL) for the 2015 season. The American Football Conference (AFC) champion \n",
       "\u001b[30;48;2;144;238;144mDenver Broncos\u001b[0m defeated the National Football Conference (NFC) champion Carolina Panthers \n",
       "24–10 to earn their third Super Bowl title. The game was played on February 7, 2016, at \n",
       "Levi's Stadium in the San Francisco Bay Area at Santa Clara, California. As this was the 50th\n",
       "Super Bowl, the league emphasized the \"golden anniversary\" with various gold-themed \n",
       "initiatives, as well as temporarily suspending the tradition of naming each Super Bowl game \n",
       "with Roman numerals (under which the game would have been known as \"Super Bowl L\"), so that \n",
       "the logo could prominently feature the Arabic numerals 50.\n"
      ]
     },
     "metadata": {
      "engine": 0
     },
     "output_type": "display_data"
    },
    {
     "data": {
      "text/plain": [
       "[output:0]"
      ]
     },
     "metadata": {},
     "output_type": "display_data"
    },
    {
     "data": {
      "text/html": [
       "<pre style=\"white-space:pre;overflow-x:auto;line-height:normal;font-family:Menlo,'DejaVu Sans Mono',consolas,'Courier New',monospace\">✅ Denver Broncos                \n",
       "</pre>\n"
      ],
      "text/plain": [
       "✅ Denver Broncos                \n"
      ]
     },
     "metadata": {
      "engine": 0
     },
     "output_type": "display_data"
    }
   ],
   "source": [
    "%%px --target 0\n",
    "\n",
    "start_sample = 0\n",
    "num_test_samples = 10\n",
    "for i, eval_batch in enumerate(eval_dataloader):\n",
    "    if i > start_sample:\n",
    "        testing.EvalUtility(eval_batch, [squad_example_objects[i]], model).results()\n",
    "\n",
    "    if i > start_sample + num_test_samples:\n",
    "        break"
   ]
  },
  {
   "cell_type": "code",
   "execution_count": 23,
   "metadata": {},
   "outputs": [
    {
     "name": "stdout",
     "output_type": "stream",
     "text": [
      "IPCluster stopped.\n"
     ]
    }
   ],
   "source": [
    "%ipcluster stop"
   ]
  },
  {
   "cell_type": "code",
   "execution_count": null,
   "metadata": {},
   "outputs": [],
   "source": []
  }
 ],
 "metadata": {
  "kernelspec": {
   "display_name": "pytorch2022",
   "language": "python",
   "name": "pytorch2022"
  },
  "language_info": {
   "codemirror_mode": {
    "name": "ipython",
    "version": 3
   },
   "file_extension": ".py",
   "mimetype": "text/x-python",
   "name": "python",
   "nbconvert_exporter": "python",
   "pygments_lexer": "ipython3",
   "version": "3.9.4"
  }
 },
 "nbformat": 4,
 "nbformat_minor": 4
}
