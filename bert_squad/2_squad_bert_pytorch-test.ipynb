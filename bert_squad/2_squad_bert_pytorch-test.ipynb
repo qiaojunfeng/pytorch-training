{
 "cells": [
  {
   "cell_type": "markdown",
   "metadata": {},
   "source": [
    "# Fine-tuning a BERT model for text extraction with the SQuAD dataset\n",
    "\n",
    "We have fine-tuned [BERT implemented by HuggingFace](https://huggingface.co/bert-base-uncased) for the text-extraction task with a dataset of questions and answers with the [SQuAD (The Stanford Question Answering Dataset)](https://rajpurkar.github.io/SQuAD-explorer/) dataset. Let evaluate the model.\n",
    "\n",
    "This notebook is based on [BERT (from HuggingFace Transformers) for Text Extraction](https://keras.io/examples/nlp/text_extraction_with_bert/).\n",
    "\n",
    "More info:\n",
    "- [Glossary - HuggingFace docs](https://huggingface.co/transformers/glossary.html#model-inputs)\n",
    "- [BERT NLP — How To Build a Question Answering Bot](https://towardsdatascience.com/bert-nlp-how-to-build-a-question-answering-bot-98b1d1594d7b)"
   ]
  },
  {
   "cell_type": "code",
   "execution_count": 1,
   "metadata": {},
   "outputs": [
    {
     "name": "stderr",
     "output_type": "stream",
     "text": [
      "/apps/daint/UES/6.0.UP04/sandboxes/sarafael/hpcpython2022/lib/python3.9/site-packages/tqdm/auto.py:22: TqdmWarning: IProgress not found. Please update jupyter and ipywidgets. See https://ipywidgets.readthedocs.io/en/stable/user_install.html\n",
      "  from .autonotebook import tqdm as notebook_tqdm\n"
     ]
    }
   ],
   "source": [
    "import os\n",
    "import utility.data_processing as dpp\n",
    "import utility.testing as testing\n",
    "import torch\n",
    "from datasets import load_dataset\n",
    "from torch.utils.data import DataLoader\n",
    "from transformers import BertForQuestionAnswering\n",
    "from tokenizers import BertWordPieceTokenizer"
   ]
  },
  {
   "cell_type": "code",
   "execution_count": 2,
   "metadata": {},
   "outputs": [],
   "source": [
    "from datasets.utils import disable_progress_bar\n",
    "from datasets import disable_caching\n",
    "\n",
    "\n",
    "disable_progress_bar()\n",
    "disable_caching()"
   ]
  },
  {
   "cell_type": "code",
   "execution_count": 3,
   "metadata": {},
   "outputs": [],
   "source": [
    "hf_model = 'bert-base-uncased'\n",
    "bert_cache = os.path.join(os.getcwd(), 'cache')\n",
    "save_path = os.path.join(bert_cache, f'{hf_model}-tokenizer')"
   ]
  },
  {
   "cell_type": "code",
   "execution_count": 4,
   "metadata": {},
   "outputs": [],
   "source": [
    "# Load the fast tokenizer from saved file\n",
    "tokenizer = BertWordPieceTokenizer(os.path.join(save_path, 'vocab.txt'),\n",
    "                                   lowercase=True)"
   ]
  },
  {
   "cell_type": "code",
   "execution_count": 5,
   "metadata": {},
   "outputs": [
    {
     "name": "stderr",
     "output_type": "stream",
     "text": [
      "Some weights of the model checkpoint at bert-base-uncased were not used when initializing BertForQuestionAnswering: ['cls.predictions.transform.dense.weight', 'cls.seq_relationship.weight', 'cls.predictions.transform.dense.bias', 'cls.predictions.decoder.weight', 'cls.seq_relationship.bias', 'cls.predictions.transform.LayerNorm.bias', 'cls.predictions.transform.LayerNorm.weight', 'cls.predictions.bias']\n",
      "- This IS expected if you are initializing BertForQuestionAnswering from the checkpoint of a model trained on another task or with another architecture (e.g. initializing a BertForSequenceClassification model from a BertForPreTraining model).\n",
      "- This IS NOT expected if you are initializing BertForQuestionAnswering from the checkpoint of a model that you expect to be exactly identical (initializing a BertForSequenceClassification model from a BertForSequenceClassification model).\n",
      "Some weights of BertForQuestionAnswering were not initialized from the model checkpoint at bert-base-uncased and are newly initialized: ['qa_outputs.weight', 'qa_outputs.bias']\n",
      "You should probably TRAIN this model on a down-stream task to be able to use it for predictions and inference.\n"
     ]
    }
   ],
   "source": [
    "model = BertForQuestionAnswering.from_pretrained(\n",
    "    hf_model,\n",
    "    cache_dir=os.path.join(bert_cache, f'{hf_model}_qa')\n",
    ")"
   ]
  },
  {
   "cell_type": "code",
   "execution_count": 6,
   "metadata": {},
   "outputs": [
    {
     "data": {
      "text/plain": [
       "<All keys matched successfully>"
      ]
     },
     "execution_count": 6,
     "metadata": {},
     "output_type": "execute_result"
    }
   ],
   "source": [
    "model_path_name = f'/scratch/snx3000/class401/bert_trained_deepspeed_example'\n",
    "\n",
    "# load the model on cpu\n",
    "model.load_state_dict(\n",
    "    torch.load(model_path_name,\n",
    "               map_location=torch.device('cpu'))\n",
    ")\n",
    "\n",
    "# load the model on gpu\n",
    "# model.load_state_dict(torch.load(model_path_name))"
   ]
  },
  {
   "cell_type": "code",
   "execution_count": 7,
   "metadata": {},
   "outputs": [
    {
     "name": "stderr",
     "output_type": "stream",
     "text": [
      "Reusing dataset squad (/users/class424/.cache/huggingface/datasets/squad/plain_text/1.0.0/d6ec3ceb99ca480ce37cdd35555d6cb2511d223b9150cce08a837ef62ffea453)\n"
     ]
    }
   ],
   "source": [
    "hf_dataset = load_dataset('squad')"
   ]
  },
  {
   "cell_type": "code",
   "execution_count": 8,
   "metadata": {},
   "outputs": [],
   "source": [
    "val_ds = hf_dataset['validation'].flatten()"
   ]
  },
  {
   "cell_type": "code",
   "execution_count": 9,
   "metadata": {},
   "outputs": [],
   "source": [
    "max_len = 384"
   ]
  },
  {
   "cell_type": "code",
   "execution_count": 10,
   "metadata": {},
   "outputs": [],
   "source": [
    "processed_val_ds = val_ds.map(\n",
    "    lambda example: dpp.process_squad_item_batched(example, max_len, tokenizer),\n",
    "    remove_columns=val_ds.column_names,\n",
    "    batched=True,\n",
    "    num_proc=12\n",
    ")"
   ]
  },
  {
   "cell_type": "code",
   "execution_count": 11,
   "metadata": {},
   "outputs": [],
   "source": [
    "processed_val_ds.set_format(type='torch')"
   ]
  },
  {
   "cell_type": "code",
   "execution_count": 12,
   "metadata": {},
   "outputs": [],
   "source": [
    "batch_size = 1\n",
    "\n",
    "eval_dataloader = DataLoader(\n",
    "    processed_val_ds,\n",
    "    shuffle=False,\n",
    "    batch_size=batch_size\n",
    ")"
   ]
  },
  {
   "cell_type": "code",
   "execution_count": 13,
   "metadata": {},
   "outputs": [],
   "source": [
    "squad_example_objects = []\n",
    "for item in val_ds:\n",
    "    squad_examples = dpp.squad_examples_from_dataset(item, max_len, tokenizer)\n",
    "    try:\n",
    "        squad_example_objects.extend(squad_examples)\n",
    "    except TypeError:\n",
    "        squad_example_objects.append(squad_examples)\n",
    "        \n",
    "assert len(processed_val_ds) == len(squad_example_objects)"
   ]
  },
  {
   "cell_type": "code",
   "execution_count": 14,
   "metadata": {},
   "outputs": [
    {
     "data": {
      "text/html": [
       "<pre style=\"white-space:pre;overflow-x:auto;line-height:normal;font-family:Menlo,'DejaVu Sans Mono',consolas,'Courier New',monospace\"><span style=\"color: #800080; text-decoration-color: #800080\">─────────────────────── </span>{'exact_match': 0.0, 'f1': 44.44444444444445}<span style=\"color: #800080; text-decoration-color: #800080\"> ───────────────────────</span>\n",
       "</pre>\n"
      ],
      "text/plain": [
       "\u001b[35m─────────────────────── \u001b[0m{'exact_match': 0.0, 'f1': 44.44444444444445}\u001b[35m ───────────────────────\u001b[0m\n"
      ]
     },
     "metadata": {},
     "output_type": "display_data"
    },
    {
     "data": {
      "text/html": [
       "<pre style=\"white-space:pre;overflow-x:auto;line-height:normal;font-family:Menlo,'DejaVu Sans Mono',consolas,'Courier New',monospace\">❓ <span style=\"font-weight: bold\">What popular phrase is associated with the Doctor Who series?</span>\n",
       "</pre>\n"
      ],
      "text/plain": [
       "❓ \u001b[1mWhat popular phrase is associated with the Doctor Who series?\u001b[0m\n"
      ]
     },
     "metadata": {},
     "output_type": "display_data"
    },
    {
     "data": {
      "text/html": [
       "<pre style=\"white-space:pre;overflow-x:auto;line-height:normal;font-family:Menlo,'DejaVu Sans Mono',consolas,'Courier New',monospace\">🤖 The phrase \"<span style=\"color: #000000; text-decoration-color: #000000; background-color: #90ee90\">Hiding behind</span> (or 'watching from behind') the sofa\" entered British pop \n",
       "culture, signifying in humour the stereotypical early-series behaviour of children who wanted\n",
       "to avoid seeing frightening parts of a television programme while remaining in the room to \n",
       "watch the remainder of it. The phrase retains this association with Doctor Who, to the point \n",
       "that in 1991 the Museum of the Moving Image in London named their exhibition celebrating the \n",
       "programme \"Behind the Sofa\". The electronic theme music too was perceived as eerie, novel, \n",
       "and frightening, at the time. A 2012 article placed this childhood juxtaposition of fear and \n",
       "thrill \"at the center of many people's relationship with the show\", and a 2011 online vote at\n",
       "Digital Spy deemed the series the \"scariest TV show of all time\".\n",
       "</pre>\n"
      ],
      "text/plain": [
       "🤖 The phrase \"\u001b[30;48;2;144;238;144mHiding behind\u001b[0m (or 'watching from behind') the sofa\" entered British pop \n",
       "culture, signifying in humour the stereotypical early-series behaviour of children who wanted\n",
       "to avoid seeing frightening parts of a television programme while remaining in the room to \n",
       "watch the remainder of it. The phrase retains this association with Doctor Who, to the point \n",
       "that in 1991 the Museum of the Moving Image in London named their exhibition celebrating the \n",
       "programme \"Behind the Sofa\". The electronic theme music too was perceived as eerie, novel, \n",
       "and frightening, at the time. A 2012 article placed this childhood juxtaposition of fear and \n",
       "thrill \"at the center of many people's relationship with the show\", and a 2011 online vote at\n",
       "Digital Spy deemed the series the \"scariest TV show of all time\".\n"
      ]
     },
     "metadata": {},
     "output_type": "display_data"
    },
    {
     "data": {
      "text/html": [
       "<pre style=\"white-space:pre;overflow-x:auto;line-height:normal;font-family:Menlo,'DejaVu Sans Mono',consolas,'Courier New',monospace\">✅ Hiding behind (or 'watching from behind') the sofa\n",
       "</pre>\n"
      ],
      "text/plain": [
       "✅ Hiding behind (or 'watching from behind') the sofa\n"
      ]
     },
     "metadata": {},
     "output_type": "display_data"
    },
    {
     "data": {
      "text/html": [
       "<pre style=\"white-space:pre;overflow-x:auto;line-height:normal;font-family:Menlo,'DejaVu Sans Mono',consolas,'Courier New',monospace\"><span style=\"color: #800080; text-decoration-color: #800080\">─────────────────────── </span>{'exact_match': 0.0, 'f1': 44.44444444444445}<span style=\"color: #800080; text-decoration-color: #800080\"> ───────────────────────</span>\n",
       "</pre>\n"
      ],
      "text/plain": [
       "\u001b[35m─────────────────────── \u001b[0m{'exact_match': 0.0, 'f1': 44.44444444444445}\u001b[35m ───────────────────────\u001b[0m\n"
      ]
     },
     "metadata": {},
     "output_type": "display_data"
    },
    {
     "data": {
      "text/html": [
       "<pre style=\"white-space:pre;overflow-x:auto;line-height:normal;font-family:Menlo,'DejaVu Sans Mono',consolas,'Courier New',monospace\">❓ <span style=\"font-weight: bold\">What popular phrase is associated with the Doctor Who series?</span>\n",
       "</pre>\n"
      ],
      "text/plain": [
       "❓ \u001b[1mWhat popular phrase is associated with the Doctor Who series?\u001b[0m\n"
      ]
     },
     "metadata": {},
     "output_type": "display_data"
    },
    {
     "data": {
      "text/html": [
       "<pre style=\"white-space:pre;overflow-x:auto;line-height:normal;font-family:Menlo,'DejaVu Sans Mono',consolas,'Courier New',monospace\">🤖 The phrase \"<span style=\"color: #000000; text-decoration-color: #000000; background-color: #90ee90\">Hiding behind</span> (or 'watching from behind') the sofa\" entered British pop \n",
       "culture, signifying in humour the stereotypical early-series behaviour of children who wanted\n",
       "to avoid seeing frightening parts of a television programme while remaining in the room to \n",
       "watch the remainder of it. The phrase retains this association with Doctor Who, to the point \n",
       "that in 1991 the Museum of the Moving Image in London named their exhibition celebrating the \n",
       "programme \"Behind the Sofa\". The electronic theme music too was perceived as eerie, novel, \n",
       "and frightening, at the time. A 2012 article placed this childhood juxtaposition of fear and \n",
       "thrill \"at the center of many people's relationship with the show\", and a 2011 online vote at\n",
       "Digital Spy deemed the series the \"scariest TV show of all time\".\n",
       "</pre>\n"
      ],
      "text/plain": [
       "🤖 The phrase \"\u001b[30;48;2;144;238;144mHiding behind\u001b[0m (or 'watching from behind') the sofa\" entered British pop \n",
       "culture, signifying in humour the stereotypical early-series behaviour of children who wanted\n",
       "to avoid seeing frightening parts of a television programme while remaining in the room to \n",
       "watch the remainder of it. The phrase retains this association with Doctor Who, to the point \n",
       "that in 1991 the Museum of the Moving Image in London named their exhibition celebrating the \n",
       "programme \"Behind the Sofa\". The electronic theme music too was perceived as eerie, novel, \n",
       "and frightening, at the time. A 2012 article placed this childhood juxtaposition of fear and \n",
       "thrill \"at the center of many people's relationship with the show\", and a 2011 online vote at\n",
       "Digital Spy deemed the series the \"scariest TV show of all time\".\n"
      ]
     },
     "metadata": {},
     "output_type": "display_data"
    },
    {
     "data": {
      "text/html": [
       "<pre style=\"white-space:pre;overflow-x:auto;line-height:normal;font-family:Menlo,'DejaVu Sans Mono',consolas,'Courier New',monospace\">✅ Hiding behind (or 'watching from behind') the sofa\n",
       "</pre>\n"
      ],
      "text/plain": [
       "✅ Hiding behind (or 'watching from behind') the sofa\n"
      ]
     },
     "metadata": {},
     "output_type": "display_data"
    },
    {
     "data": {
      "text/html": [
       "<pre style=\"white-space:pre;overflow-x:auto;line-height:normal;font-family:Menlo,'DejaVu Sans Mono',consolas,'Courier New',monospace\"><span style=\"color: #800080; text-decoration-color: #800080\">─────────────────────── </span>{'exact_match': 0.0, 'f1': 44.44444444444445}<span style=\"color: #800080; text-decoration-color: #800080\"> ───────────────────────</span>\n",
       "</pre>\n"
      ],
      "text/plain": [
       "\u001b[35m─────────────────────── \u001b[0m{'exact_match': 0.0, 'f1': 44.44444444444445}\u001b[35m ───────────────────────\u001b[0m\n"
      ]
     },
     "metadata": {},
     "output_type": "display_data"
    },
    {
     "data": {
      "text/html": [
       "<pre style=\"white-space:pre;overflow-x:auto;line-height:normal;font-family:Menlo,'DejaVu Sans Mono',consolas,'Courier New',monospace\">❓ <span style=\"font-weight: bold\">What popular phrase is associated with the Doctor Who series?</span>\n",
       "</pre>\n"
      ],
      "text/plain": [
       "❓ \u001b[1mWhat popular phrase is associated with the Doctor Who series?\u001b[0m\n"
      ]
     },
     "metadata": {},
     "output_type": "display_data"
    },
    {
     "data": {
      "text/html": [
       "<pre style=\"white-space:pre;overflow-x:auto;line-height:normal;font-family:Menlo,'DejaVu Sans Mono',consolas,'Courier New',monospace\">🤖 The phrase \"<span style=\"color: #000000; text-decoration-color: #000000; background-color: #90ee90\">Hiding behind</span> (or 'watching from behind') the sofa\" entered British pop \n",
       "culture, signifying in humour the stereotypical early-series behaviour of children who wanted\n",
       "to avoid seeing frightening parts of a television programme while remaining in the room to \n",
       "watch the remainder of it. The phrase retains this association with Doctor Who, to the point \n",
       "that in 1991 the Museum of the Moving Image in London named their exhibition celebrating the \n",
       "programme \"Behind the Sofa\". The electronic theme music too was perceived as eerie, novel, \n",
       "and frightening, at the time. A 2012 article placed this childhood juxtaposition of fear and \n",
       "thrill \"at the center of many people's relationship with the show\", and a 2011 online vote at\n",
       "Digital Spy deemed the series the \"scariest TV show of all time\".\n",
       "</pre>\n"
      ],
      "text/plain": [
       "🤖 The phrase \"\u001b[30;48;2;144;238;144mHiding behind\u001b[0m (or 'watching from behind') the sofa\" entered British pop \n",
       "culture, signifying in humour the stereotypical early-series behaviour of children who wanted\n",
       "to avoid seeing frightening parts of a television programme while remaining in the room to \n",
       "watch the remainder of it. The phrase retains this association with Doctor Who, to the point \n",
       "that in 1991 the Museum of the Moving Image in London named their exhibition celebrating the \n",
       "programme \"Behind the Sofa\". The electronic theme music too was perceived as eerie, novel, \n",
       "and frightening, at the time. A 2012 article placed this childhood juxtaposition of fear and \n",
       "thrill \"at the center of many people's relationship with the show\", and a 2011 online vote at\n",
       "Digital Spy deemed the series the \"scariest TV show of all time\".\n"
      ]
     },
     "metadata": {},
     "output_type": "display_data"
    },
    {
     "data": {
      "text/html": [
       "<pre style=\"white-space:pre;overflow-x:auto;line-height:normal;font-family:Menlo,'DejaVu Sans Mono',consolas,'Courier New',monospace\">✅ \"Hiding behind (or 'watching from behind') the sofa\"\n",
       "</pre>\n"
      ],
      "text/plain": [
       "✅ \"Hiding behind (or 'watching from behind') the sofa\"\n"
      ]
     },
     "metadata": {},
     "output_type": "display_data"
    },
    {
     "data": {
      "text/html": [
       "<pre style=\"white-space:pre;overflow-x:auto;line-height:normal;font-family:Menlo,'DejaVu Sans Mono',consolas,'Courier New',monospace\"><span style=\"color: #800080; text-decoration-color: #800080\">───────────────────────────── </span>{'exact_match': 0.0, 'f1': 80.0}<span style=\"color: #800080; text-decoration-color: #800080\"> ──────────────────────────────</span>\n",
       "</pre>\n"
      ],
      "text/plain": [
       "\u001b[35m───────────────────────────── \u001b[0m{'exact_match': 0.0, 'f1': 80.0}\u001b[35m ──────────────────────────────\u001b[0m\n"
      ]
     },
     "metadata": {},
     "output_type": "display_data"
    },
    {
     "data": {
      "text/html": [
       "<pre style=\"white-space:pre;overflow-x:auto;line-height:normal;font-family:Menlo,'DejaVu Sans Mono',consolas,'Courier New',monospace\">❓ <span style=\"font-weight: bold\">Who put on a Doctor Who exhibition in 1991?</span>\n",
       "</pre>\n"
      ],
      "text/plain": [
       "❓ \u001b[1mWho put on a Doctor Who exhibition in 1991?\u001b[0m\n"
      ]
     },
     "metadata": {},
     "output_type": "display_data"
    },
    {
     "data": {
      "text/html": [
       "<pre style=\"white-space:pre;overflow-x:auto;line-height:normal;font-family:Menlo,'DejaVu Sans Mono',consolas,'Courier New',monospace\">🤖 The phrase \"Hiding behind (or 'watching from behind') the sofa\" entered British pop \n",
       "culture, signifying in humour the stereotypical early-series behaviour of children who wanted\n",
       "to avoid seeing frightening parts of a television programme while remaining in the room to \n",
       "watch the remainder of it. The phrase retains this association with Doctor Who, to the point \n",
       "that in 1991 <span style=\"color: #000000; text-decoration-color: #000000; background-color: #90ee90\">the Museum of the Moving Image in London</span> named their exhibition celebrating the \n",
       "programme \"Behind the Sofa\". The electronic theme music too was perceived as eerie, novel, \n",
       "and frightening, at the time. A 2012 article placed this childhood juxtaposition of fear and \n",
       "thrill \"at the center of many people's relationship with the show\", and a 2011 online vote at\n",
       "Digital Spy deemed the series the \"scariest TV show of all time\".\n",
       "</pre>\n"
      ],
      "text/plain": [
       "🤖 The phrase \"Hiding behind (or 'watching from behind') the sofa\" entered British pop \n",
       "culture, signifying in humour the stereotypical early-series behaviour of children who wanted\n",
       "to avoid seeing frightening parts of a television programme while remaining in the room to \n",
       "watch the remainder of it. The phrase retains this association with Doctor Who, to the point \n",
       "that in 1991 \u001b[30;48;2;144;238;144mthe Museum of the Moving Image in London\u001b[0m named their exhibition celebrating the \n",
       "programme \"Behind the Sofa\". The electronic theme music too was perceived as eerie, novel, \n",
       "and frightening, at the time. A 2012 article placed this childhood juxtaposition of fear and \n",
       "thrill \"at the center of many people's relationship with the show\", and a 2011 online vote at\n",
       "Digital Spy deemed the series the \"scariest TV show of all time\".\n"
      ]
     },
     "metadata": {},
     "output_type": "display_data"
    },
    {
     "data": {
      "text/html": [
       "<pre style=\"white-space:pre;overflow-x:auto;line-height:normal;font-family:Menlo,'DejaVu Sans Mono',consolas,'Courier New',monospace\">✅ the Museum of the Moving Image\n",
       "</pre>\n"
      ],
      "text/plain": [
       "✅ the Museum of the Moving Image\n"
      ]
     },
     "metadata": {},
     "output_type": "display_data"
    },
    {
     "data": {
      "text/html": [
       "<pre style=\"white-space:pre;overflow-x:auto;line-height:normal;font-family:Menlo,'DejaVu Sans Mono',consolas,'Courier New',monospace\"><span style=\"color: #800080; text-decoration-color: #800080\">───────────────────────────── </span>{'exact_match': 0.0, 'f1': 80.0}<span style=\"color: #800080; text-decoration-color: #800080\"> ──────────────────────────────</span>\n",
       "</pre>\n"
      ],
      "text/plain": [
       "\u001b[35m───────────────────────────── \u001b[0m{'exact_match': 0.0, 'f1': 80.0}\u001b[35m ──────────────────────────────\u001b[0m\n"
      ]
     },
     "metadata": {},
     "output_type": "display_data"
    },
    {
     "data": {
      "text/html": [
       "<pre style=\"white-space:pre;overflow-x:auto;line-height:normal;font-family:Menlo,'DejaVu Sans Mono',consolas,'Courier New',monospace\">❓ <span style=\"font-weight: bold\">Who put on a Doctor Who exhibition in 1991?</span>\n",
       "</pre>\n"
      ],
      "text/plain": [
       "❓ \u001b[1mWho put on a Doctor Who exhibition in 1991?\u001b[0m\n"
      ]
     },
     "metadata": {},
     "output_type": "display_data"
    },
    {
     "data": {
      "text/html": [
       "<pre style=\"white-space:pre;overflow-x:auto;line-height:normal;font-family:Menlo,'DejaVu Sans Mono',consolas,'Courier New',monospace\">🤖 The phrase \"Hiding behind (or 'watching from behind') the sofa\" entered British pop \n",
       "culture, signifying in humour the stereotypical early-series behaviour of children who wanted\n",
       "to avoid seeing frightening parts of a television programme while remaining in the room to \n",
       "watch the remainder of it. The phrase retains this association with Doctor Who, to the point \n",
       "that in 1991 <span style=\"color: #000000; text-decoration-color: #000000; background-color: #90ee90\">the Museum of the Moving Image in London</span> named their exhibition celebrating the \n",
       "programme \"Behind the Sofa\". The electronic theme music too was perceived as eerie, novel, \n",
       "and frightening, at the time. A 2012 article placed this childhood juxtaposition of fear and \n",
       "thrill \"at the center of many people's relationship with the show\", and a 2011 online vote at\n",
       "Digital Spy deemed the series the \"scariest TV show of all time\".\n",
       "</pre>\n"
      ],
      "text/plain": [
       "🤖 The phrase \"Hiding behind (or 'watching from behind') the sofa\" entered British pop \n",
       "culture, signifying in humour the stereotypical early-series behaviour of children who wanted\n",
       "to avoid seeing frightening parts of a television programme while remaining in the room to \n",
       "watch the remainder of it. The phrase retains this association with Doctor Who, to the point \n",
       "that in 1991 \u001b[30;48;2;144;238;144mthe Museum of the Moving Image in London\u001b[0m named their exhibition celebrating the \n",
       "programme \"Behind the Sofa\". The electronic theme music too was perceived as eerie, novel, \n",
       "and frightening, at the time. A 2012 article placed this childhood juxtaposition of fear and \n",
       "thrill \"at the center of many people's relationship with the show\", and a 2011 online vote at\n",
       "Digital Spy deemed the series the \"scariest TV show of all time\".\n"
      ]
     },
     "metadata": {},
     "output_type": "display_data"
    },
    {
     "data": {
      "text/html": [
       "<pre style=\"white-space:pre;overflow-x:auto;line-height:normal;font-family:Menlo,'DejaVu Sans Mono',consolas,'Courier New',monospace\">✅ Museum of the Moving Image    \n",
       "</pre>\n"
      ],
      "text/plain": [
       "✅ Museum of the Moving Image    \n"
      ]
     },
     "metadata": {},
     "output_type": "display_data"
    },
    {
     "data": {
      "text/html": [
       "<pre style=\"white-space:pre;overflow-x:auto;line-height:normal;font-family:Menlo,'DejaVu Sans Mono',consolas,'Courier New',monospace\"><span style=\"color: #800080; text-decoration-color: #800080\">───────────────────────────── </span>{'exact_match': 0.0, 'f1': 80.0}<span style=\"color: #800080; text-decoration-color: #800080\"> ──────────────────────────────</span>\n",
       "</pre>\n"
      ],
      "text/plain": [
       "\u001b[35m───────────────────────────── \u001b[0m{'exact_match': 0.0, 'f1': 80.0}\u001b[35m ──────────────────────────────\u001b[0m\n"
      ]
     },
     "metadata": {},
     "output_type": "display_data"
    },
    {
     "data": {
      "text/html": [
       "<pre style=\"white-space:pre;overflow-x:auto;line-height:normal;font-family:Menlo,'DejaVu Sans Mono',consolas,'Courier New',monospace\">❓ <span style=\"font-weight: bold\">Who put on a Doctor Who exhibition in 1991?</span>\n",
       "</pre>\n"
      ],
      "text/plain": [
       "❓ \u001b[1mWho put on a Doctor Who exhibition in 1991?\u001b[0m\n"
      ]
     },
     "metadata": {},
     "output_type": "display_data"
    },
    {
     "data": {
      "text/html": [
       "<pre style=\"white-space:pre;overflow-x:auto;line-height:normal;font-family:Menlo,'DejaVu Sans Mono',consolas,'Courier New',monospace\">🤖 The phrase \"Hiding behind (or 'watching from behind') the sofa\" entered British pop \n",
       "culture, signifying in humour the stereotypical early-series behaviour of children who wanted\n",
       "to avoid seeing frightening parts of a television programme while remaining in the room to \n",
       "watch the remainder of it. The phrase retains this association with Doctor Who, to the point \n",
       "that in 1991 <span style=\"color: #000000; text-decoration-color: #000000; background-color: #90ee90\">the Museum of the Moving Image in London</span> named their exhibition celebrating the \n",
       "programme \"Behind the Sofa\". The electronic theme music too was perceived as eerie, novel, \n",
       "and frightening, at the time. A 2012 article placed this childhood juxtaposition of fear and \n",
       "thrill \"at the center of many people's relationship with the show\", and a 2011 online vote at\n",
       "Digital Spy deemed the series the \"scariest TV show of all time\".\n",
       "</pre>\n"
      ],
      "text/plain": [
       "🤖 The phrase \"Hiding behind (or 'watching from behind') the sofa\" entered British pop \n",
       "culture, signifying in humour the stereotypical early-series behaviour of children who wanted\n",
       "to avoid seeing frightening parts of a television programme while remaining in the room to \n",
       "watch the remainder of it. The phrase retains this association with Doctor Who, to the point \n",
       "that in 1991 \u001b[30;48;2;144;238;144mthe Museum of the Moving Image in London\u001b[0m named their exhibition celebrating the \n",
       "programme \"Behind the Sofa\". The electronic theme music too was perceived as eerie, novel, \n",
       "and frightening, at the time. A 2012 article placed this childhood juxtaposition of fear and \n",
       "thrill \"at the center of many people's relationship with the show\", and a 2011 online vote at\n",
       "Digital Spy deemed the series the \"scariest TV show of all time\".\n"
      ]
     },
     "metadata": {},
     "output_type": "display_data"
    },
    {
     "data": {
      "text/html": [
       "<pre style=\"white-space:pre;overflow-x:auto;line-height:normal;font-family:Menlo,'DejaVu Sans Mono',consolas,'Courier New',monospace\">✅ the Museum of the Moving Image\n",
       "</pre>\n"
      ],
      "text/plain": [
       "✅ the Museum of the Moving Image\n"
      ]
     },
     "metadata": {},
     "output_type": "display_data"
    },
    {
     "data": {
      "text/html": [
       "<pre style=\"white-space:pre;overflow-x:auto;line-height:normal;font-family:Menlo,'DejaVu Sans Mono',consolas,'Courier New',monospace\"><span style=\"color: #800080; text-decoration-color: #800080\">──────────────────────────── </span>{'exact_match': 100.0, 'f1': 100.0}<span style=\"color: #800080; text-decoration-color: #800080\"> ────────────────────────────</span>\n",
       "</pre>\n"
      ],
      "text/plain": [
       "\u001b[35m──────────────────────────── \u001b[0m{'exact_match': 100.0, 'f1': 100.0}\u001b[35m ────────────────────────────\u001b[0m\n"
      ]
     },
     "metadata": {},
     "output_type": "display_data"
    },
    {
     "data": {
      "text/html": [
       "<pre style=\"white-space:pre;overflow-x:auto;line-height:normal;font-family:Menlo,'DejaVu Sans Mono',consolas,'Courier New',monospace\">❓ <span style=\"font-weight: bold\">What was the name of the 1991 Doctor Who exhibition?</span>\n",
       "</pre>\n"
      ],
      "text/plain": [
       "❓ \u001b[1mWhat was the name of the 1991 Doctor Who exhibition?\u001b[0m\n"
      ]
     },
     "metadata": {},
     "output_type": "display_data"
    },
    {
     "data": {
      "text/html": [
       "<pre style=\"white-space:pre;overflow-x:auto;line-height:normal;font-family:Menlo,'DejaVu Sans Mono',consolas,'Courier New',monospace\">🤖 The phrase \"Hiding behind (or 'watching from behind') the sofa\" entered British pop \n",
       "culture, signifying in humour the stereotypical early-series behaviour of children who wanted\n",
       "to avoid seeing frightening parts of a television programme while remaining in the room to \n",
       "watch the remainder of it. The phrase retains this association with Doctor Who, to the point \n",
       "that in 1991 the Museum of the Moving Image in London named their exhibition celebrating the \n",
       "programme \"<span style=\"color: #000000; text-decoration-color: #000000; background-color: #90ee90\">Behind the Sofa</span>\". The electronic theme music too was perceived as eerie, novel, \n",
       "and frightening, at the time. A 2012 article placed this childhood juxtaposition of fear and \n",
       "thrill \"at the center of many people's relationship with the show\", and a 2011 online vote at\n",
       "Digital Spy deemed the series the \"scariest TV show of all time\".\n",
       "</pre>\n"
      ],
      "text/plain": [
       "🤖 The phrase \"Hiding behind (or 'watching from behind') the sofa\" entered British pop \n",
       "culture, signifying in humour the stereotypical early-series behaviour of children who wanted\n",
       "to avoid seeing frightening parts of a television programme while remaining in the room to \n",
       "watch the remainder of it. The phrase retains this association with Doctor Who, to the point \n",
       "that in 1991 the Museum of the Moving Image in London named their exhibition celebrating the \n",
       "programme \"\u001b[30;48;2;144;238;144mBehind the Sofa\u001b[0m\". The electronic theme music too was perceived as eerie, novel, \n",
       "and frightening, at the time. A 2012 article placed this childhood juxtaposition of fear and \n",
       "thrill \"at the center of many people's relationship with the show\", and a 2011 online vote at\n",
       "Digital Spy deemed the series the \"scariest TV show of all time\".\n"
      ]
     },
     "metadata": {},
     "output_type": "display_data"
    },
    {
     "data": {
      "text/html": [
       "<pre style=\"white-space:pre;overflow-x:auto;line-height:normal;font-family:Menlo,'DejaVu Sans Mono',consolas,'Courier New',monospace\">✅ Behind the Sofa               \n",
       "</pre>\n"
      ],
      "text/plain": [
       "✅ Behind the Sofa               \n"
      ]
     },
     "metadata": {},
     "output_type": "display_data"
    },
    {
     "data": {
      "text/html": [
       "<pre style=\"white-space:pre;overflow-x:auto;line-height:normal;font-family:Menlo,'DejaVu Sans Mono',consolas,'Courier New',monospace\"><span style=\"color: #800080; text-decoration-color: #800080\">──────────────────────────── </span>{'exact_match': 100.0, 'f1': 100.0}<span style=\"color: #800080; text-decoration-color: #800080\"> ────────────────────────────</span>\n",
       "</pre>\n"
      ],
      "text/plain": [
       "\u001b[35m──────────────────────────── \u001b[0m{'exact_match': 100.0, 'f1': 100.0}\u001b[35m ────────────────────────────\u001b[0m\n"
      ]
     },
     "metadata": {},
     "output_type": "display_data"
    },
    {
     "data": {
      "text/html": [
       "<pre style=\"white-space:pre;overflow-x:auto;line-height:normal;font-family:Menlo,'DejaVu Sans Mono',consolas,'Courier New',monospace\">❓ <span style=\"font-weight: bold\">What was the name of the 1991 Doctor Who exhibition?</span>\n",
       "</pre>\n"
      ],
      "text/plain": [
       "❓ \u001b[1mWhat was the name of the 1991 Doctor Who exhibition?\u001b[0m\n"
      ]
     },
     "metadata": {},
     "output_type": "display_data"
    },
    {
     "data": {
      "text/html": [
       "<pre style=\"white-space:pre;overflow-x:auto;line-height:normal;font-family:Menlo,'DejaVu Sans Mono',consolas,'Courier New',monospace\">🤖 The phrase \"Hiding behind (or 'watching from behind') the sofa\" entered British pop \n",
       "culture, signifying in humour the stereotypical early-series behaviour of children who wanted\n",
       "to avoid seeing frightening parts of a television programme while remaining in the room to \n",
       "watch the remainder of it. The phrase retains this association with Doctor Who, to the point \n",
       "that in 1991 the Museum of the Moving Image in London named their exhibition celebrating the \n",
       "programme \"<span style=\"color: #000000; text-decoration-color: #000000; background-color: #90ee90\">Behind the Sofa</span>\". The electronic theme music too was perceived as eerie, novel, \n",
       "and frightening, at the time. A 2012 article placed this childhood juxtaposition of fear and \n",
       "thrill \"at the center of many people's relationship with the show\", and a 2011 online vote at\n",
       "Digital Spy deemed the series the \"scariest TV show of all time\".\n",
       "</pre>\n"
      ],
      "text/plain": [
       "🤖 The phrase \"Hiding behind (or 'watching from behind') the sofa\" entered British pop \n",
       "culture, signifying in humour the stereotypical early-series behaviour of children who wanted\n",
       "to avoid seeing frightening parts of a television programme while remaining in the room to \n",
       "watch the remainder of it. The phrase retains this association with Doctor Who, to the point \n",
       "that in 1991 the Museum of the Moving Image in London named their exhibition celebrating the \n",
       "programme \"\u001b[30;48;2;144;238;144mBehind the Sofa\u001b[0m\". The electronic theme music too was perceived as eerie, novel, \n",
       "and frightening, at the time. A 2012 article placed this childhood juxtaposition of fear and \n",
       "thrill \"at the center of many people's relationship with the show\", and a 2011 online vote at\n",
       "Digital Spy deemed the series the \"scariest TV show of all time\".\n"
      ]
     },
     "metadata": {},
     "output_type": "display_data"
    },
    {
     "data": {
      "text/html": [
       "<pre style=\"white-space:pre;overflow-x:auto;line-height:normal;font-family:Menlo,'DejaVu Sans Mono',consolas,'Courier New',monospace\">✅ Behind the Sofa               \n",
       "</pre>\n"
      ],
      "text/plain": [
       "✅ Behind the Sofa               \n"
      ]
     },
     "metadata": {},
     "output_type": "display_data"
    },
    {
     "data": {
      "text/html": [
       "<pre style=\"white-space:pre;overflow-x:auto;line-height:normal;font-family:Menlo,'DejaVu Sans Mono',consolas,'Courier New',monospace\"><span style=\"color: #800080; text-decoration-color: #800080\">──────────────────────────── </span>{'exact_match': 100.0, 'f1': 100.0}<span style=\"color: #800080; text-decoration-color: #800080\"> ────────────────────────────</span>\n",
       "</pre>\n"
      ],
      "text/plain": [
       "\u001b[35m──────────────────────────── \u001b[0m{'exact_match': 100.0, 'f1': 100.0}\u001b[35m ────────────────────────────\u001b[0m\n"
      ]
     },
     "metadata": {},
     "output_type": "display_data"
    },
    {
     "data": {
      "text/html": [
       "<pre style=\"white-space:pre;overflow-x:auto;line-height:normal;font-family:Menlo,'DejaVu Sans Mono',consolas,'Courier New',monospace\">❓ <span style=\"font-weight: bold\">What was the name of the 1991 Doctor Who exhibition?</span>\n",
       "</pre>\n"
      ],
      "text/plain": [
       "❓ \u001b[1mWhat was the name of the 1991 Doctor Who exhibition?\u001b[0m\n"
      ]
     },
     "metadata": {},
     "output_type": "display_data"
    },
    {
     "data": {
      "text/html": [
       "<pre style=\"white-space:pre;overflow-x:auto;line-height:normal;font-family:Menlo,'DejaVu Sans Mono',consolas,'Courier New',monospace\">🤖 The phrase \"Hiding behind (or 'watching from behind') the sofa\" entered British pop \n",
       "culture, signifying in humour the stereotypical early-series behaviour of children who wanted\n",
       "to avoid seeing frightening parts of a television programme while remaining in the room to \n",
       "watch the remainder of it. The phrase retains this association with Doctor Who, to the point \n",
       "that in 1991 the Museum of the Moving Image in London named their exhibition celebrating the \n",
       "programme \"<span style=\"color: #000000; text-decoration-color: #000000; background-color: #90ee90\">Behind the Sofa</span>\". The electronic theme music too was perceived as eerie, novel, \n",
       "and frightening, at the time. A 2012 article placed this childhood juxtaposition of fear and \n",
       "thrill \"at the center of many people's relationship with the show\", and a 2011 online vote at\n",
       "Digital Spy deemed the series the \"scariest TV show of all time\".\n",
       "</pre>\n"
      ],
      "text/plain": [
       "🤖 The phrase \"Hiding behind (or 'watching from behind') the sofa\" entered British pop \n",
       "culture, signifying in humour the stereotypical early-series behaviour of children who wanted\n",
       "to avoid seeing frightening parts of a television programme while remaining in the room to \n",
       "watch the remainder of it. The phrase retains this association with Doctor Who, to the point \n",
       "that in 1991 the Museum of the Moving Image in London named their exhibition celebrating the \n",
       "programme \"\u001b[30;48;2;144;238;144mBehind the Sofa\u001b[0m\". The electronic theme music too was perceived as eerie, novel, \n",
       "and frightening, at the time. A 2012 article placed this childhood juxtaposition of fear and \n",
       "thrill \"at the center of many people's relationship with the show\", and a 2011 online vote at\n",
       "Digital Spy deemed the series the \"scariest TV show of all time\".\n"
      ]
     },
     "metadata": {},
     "output_type": "display_data"
    },
    {
     "data": {
      "text/html": [
       "<pre style=\"white-space:pre;overflow-x:auto;line-height:normal;font-family:Menlo,'DejaVu Sans Mono',consolas,'Courier New',monospace\">✅ Behind the Sofa               \n",
       "</pre>\n"
      ],
      "text/plain": [
       "✅ Behind the Sofa               \n"
      ]
     },
     "metadata": {},
     "output_type": "display_data"
    },
    {
     "data": {
      "text/html": [
       "<pre style=\"white-space:pre;overflow-x:auto;line-height:normal;font-family:Menlo,'DejaVu Sans Mono',consolas,'Courier New',monospace\"><span style=\"color: #800080; text-decoration-color: #800080\">──────────────────────────── </span>{'exact_match': 100.0, 'f1': 100.0}<span style=\"color: #800080; text-decoration-color: #800080\"> ────────────────────────────</span>\n",
       "</pre>\n"
      ],
      "text/plain": [
       "\u001b[35m──────────────────────────── \u001b[0m{'exact_match': 100.0, 'f1': 100.0}\u001b[35m ────────────────────────────\u001b[0m\n"
      ]
     },
     "metadata": {},
     "output_type": "display_data"
    },
    {
     "data": {
      "text/html": [
       "<pre style=\"white-space:pre;overflow-x:auto;line-height:normal;font-family:Menlo,'DejaVu Sans Mono',consolas,'Courier New',monospace\">❓ <span style=\"font-weight: bold\">What did people vote the Doctor Who series as in a 2011 online vote?</span>\n",
       "</pre>\n"
      ],
      "text/plain": [
       "❓ \u001b[1mWhat did people vote the Doctor Who series as in a 2011 online vote?\u001b[0m\n"
      ]
     },
     "metadata": {},
     "output_type": "display_data"
    },
    {
     "data": {
      "text/html": [
       "<pre style=\"white-space:pre;overflow-x:auto;line-height:normal;font-family:Menlo,'DejaVu Sans Mono',consolas,'Courier New',monospace\">🤖 The phrase \"Hiding behind (or 'watching from behind') the sofa\" entered British pop \n",
       "culture, signifying in humour the stereotypical early-series behaviour of children who wanted\n",
       "to avoid seeing frightening parts of a television programme while remaining in the room to \n",
       "watch the remainder of it. The phrase retains this association with Doctor Who, to the point \n",
       "that in 1991 the Museum of the Moving Image in London named their exhibition celebrating the \n",
       "programme \"Behind the Sofa\". The electronic theme music too was perceived as eerie, novel, \n",
       "and frightening, at the time. A 2012 article placed this childhood juxtaposition of fear and \n",
       "thrill \"at the center of many people's relationship with the show\", and a 2011 online vote at\n",
       "Digital Spy deemed the series the \"<span style=\"color: #000000; text-decoration-color: #000000; background-color: #90ee90\">scariest TV show of all time</span>\".\n",
       "</pre>\n"
      ],
      "text/plain": [
       "🤖 The phrase \"Hiding behind (or 'watching from behind') the sofa\" entered British pop \n",
       "culture, signifying in humour the stereotypical early-series behaviour of children who wanted\n",
       "to avoid seeing frightening parts of a television programme while remaining in the room to \n",
       "watch the remainder of it. The phrase retains this association with Doctor Who, to the point \n",
       "that in 1991 the Museum of the Moving Image in London named their exhibition celebrating the \n",
       "programme \"Behind the Sofa\". The electronic theme music too was perceived as eerie, novel, \n",
       "and frightening, at the time. A 2012 article placed this childhood juxtaposition of fear and \n",
       "thrill \"at the center of many people's relationship with the show\", and a 2011 online vote at\n",
       "Digital Spy deemed the series the \"\u001b[30;48;2;144;238;144mscariest TV show of all time\u001b[0m\".\n"
      ]
     },
     "metadata": {},
     "output_type": "display_data"
    },
    {
     "data": {
      "text/html": [
       "<pre style=\"white-space:pre;overflow-x:auto;line-height:normal;font-family:Menlo,'DejaVu Sans Mono',consolas,'Courier New',monospace\">✅ scariest TV show of all time  \n",
       "</pre>\n"
      ],
      "text/plain": [
       "✅ scariest TV show of all time  \n"
      ]
     },
     "metadata": {},
     "output_type": "display_data"
    },
    {
     "data": {
      "text/html": [
       "<pre style=\"white-space:pre;overflow-x:auto;line-height:normal;font-family:Menlo,'DejaVu Sans Mono',consolas,'Courier New',monospace\"><span style=\"color: #800080; text-decoration-color: #800080\">──────────────────────────── </span>{'exact_match': 100.0, 'f1': 100.0}<span style=\"color: #800080; text-decoration-color: #800080\"> ────────────────────────────</span>\n",
       "</pre>\n"
      ],
      "text/plain": [
       "\u001b[35m──────────────────────────── \u001b[0m{'exact_match': 100.0, 'f1': 100.0}\u001b[35m ────────────────────────────\u001b[0m\n"
      ]
     },
     "metadata": {},
     "output_type": "display_data"
    },
    {
     "data": {
      "text/html": [
       "<pre style=\"white-space:pre;overflow-x:auto;line-height:normal;font-family:Menlo,'DejaVu Sans Mono',consolas,'Courier New',monospace\">❓ <span style=\"font-weight: bold\">What did people vote the Doctor Who series as in a 2011 online vote?</span>\n",
       "</pre>\n"
      ],
      "text/plain": [
       "❓ \u001b[1mWhat did people vote the Doctor Who series as in a 2011 online vote?\u001b[0m\n"
      ]
     },
     "metadata": {},
     "output_type": "display_data"
    },
    {
     "data": {
      "text/html": [
       "<pre style=\"white-space:pre;overflow-x:auto;line-height:normal;font-family:Menlo,'DejaVu Sans Mono',consolas,'Courier New',monospace\">🤖 The phrase \"Hiding behind (or 'watching from behind') the sofa\" entered British pop \n",
       "culture, signifying in humour the stereotypical early-series behaviour of children who wanted\n",
       "to avoid seeing frightening parts of a television programme while remaining in the room to \n",
       "watch the remainder of it. The phrase retains this association with Doctor Who, to the point \n",
       "that in 1991 the Museum of the Moving Image in London named their exhibition celebrating the \n",
       "programme \"Behind the Sofa\". The electronic theme music too was perceived as eerie, novel, \n",
       "and frightening, at the time. A 2012 article placed this childhood juxtaposition of fear and \n",
       "thrill \"at the center of many people's relationship with the show\", and a 2011 online vote at\n",
       "Digital Spy deemed the series the \"<span style=\"color: #000000; text-decoration-color: #000000; background-color: #90ee90\">scariest TV show of all time</span>\".\n",
       "</pre>\n"
      ],
      "text/plain": [
       "🤖 The phrase \"Hiding behind (or 'watching from behind') the sofa\" entered British pop \n",
       "culture, signifying in humour the stereotypical early-series behaviour of children who wanted\n",
       "to avoid seeing frightening parts of a television programme while remaining in the room to \n",
       "watch the remainder of it. The phrase retains this association with Doctor Who, to the point \n",
       "that in 1991 the Museum of the Moving Image in London named their exhibition celebrating the \n",
       "programme \"Behind the Sofa\". The electronic theme music too was perceived as eerie, novel, \n",
       "and frightening, at the time. A 2012 article placed this childhood juxtaposition of fear and \n",
       "thrill \"at the center of many people's relationship with the show\", and a 2011 online vote at\n",
       "Digital Spy deemed the series the \"\u001b[30;48;2;144;238;144mscariest TV show of all time\u001b[0m\".\n"
      ]
     },
     "metadata": {},
     "output_type": "display_data"
    },
    {
     "data": {
      "text/html": [
       "<pre style=\"white-space:pre;overflow-x:auto;line-height:normal;font-family:Menlo,'DejaVu Sans Mono',consolas,'Courier New',monospace\">✅ scariest TV show of all time  \n",
       "</pre>\n"
      ],
      "text/plain": [
       "✅ scariest TV show of all time  \n"
      ]
     },
     "metadata": {},
     "output_type": "display_data"
    }
   ],
   "source": [
    "start_sample = 24100\n",
    "num_test_samples = 10\n",
    "for i, eval_batch in enumerate(eval_dataloader):\n",
    "    if i > start_sample:\n",
    "        testing.EvalUtility(eval_batch, [squad_example_objects[i]], model).results()\n",
    "\n",
    "    if i > start_sample + num_test_samples:\n",
    "        break"
   ]
  },
  {
   "cell_type": "code",
   "execution_count": null,
   "metadata": {},
   "outputs": [],
   "source": []
  }
 ],
 "metadata": {
  "kernelspec": {
   "display_name": "pytorch2022",
   "language": "python",
   "name": "pytorch2022"
  },
  "language_info": {
   "codemirror_mode": {
    "name": "ipython",
    "version": 3
   },
   "file_extension": ".py",
   "mimetype": "text/x-python",
   "name": "python",
   "nbconvert_exporter": "python",
   "pygments_lexer": "ipython3",
   "version": "3.9.4"
  }
 },
 "nbformat": 4,
 "nbformat_minor": 4
}
